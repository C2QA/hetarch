{
 "cells": [
  {
   "cell_type": "markdown",
   "id": "5a18d80c-6eb9-4920-9802-1d57670e230f",
   "metadata": {},
   "source": [
    "# Code Teleportation Module\n",
    "All of the functions in this notebook assume that we are teleporting between two Steane codes. It's not a particularly useful scenario, but it keeps the\n",
    "qubit counts somewhat manageable and let's us verify that all of the circuits are functioning properly.\n",
    "\n",
    "There are 4 components to the code teleportation module:\n",
    "1. Teleportation-enabled CAT state generation\n",
    "2. Code A, B $|+\\rangle$ state generation\n",
    "3. Transversal CNOTs between $|+\\rangle$ and half of the CAT\n",
    "4. Logical Z-basis measurements on each half of the CAT state"
   ]
  },
  {
   "cell_type": "code",
   "execution_count": 196,
   "id": "2ee2911a-1f5b-4279-ab90-1311b7f4e0c9",
   "metadata": {
    "tags": []
   },
   "outputs": [],
   "source": [
    "import time\n",
    "import qiskit\n",
    "from qiskit.circuit.library import XGate, ZGate"
   ]
  },
  {
   "cell_type": "code",
   "execution_count": 4,
   "id": "0f92b12d-a702-43fc-9c30-c05ec2b567fe",
   "metadata": {},
   "outputs": [],
   "source": [
    "backend = qiskit.Aer.get_backend('aer_simulator')"
   ]
  },
  {
   "cell_type": "markdown",
   "id": "2e06c64a-cfd8-4090-9bd9-7db894dd10f0",
   "metadata": {},
   "source": [
    "## 1. CAT state generation"
   ]
  },
  {
   "cell_type": "code",
   "execution_count": 123,
   "id": "88178a75-dd17-4160-a8f2-d81d3d108ad0",
   "metadata": {},
   "outputs": [],
   "source": [
    "def cat_state(num_A_qubits, num_B_qubits, teleportation=False, verification=False):\n",
    "    cat_A_reg = qiskit.QuantumRegister(num_A_qubits, name='cat_A')\n",
    "    cat_B_reg = qiskit.QuantumRegister(num_B_qubits, name='cat_B')\n",
    "    epr_reg = qiskit.QuantumRegister(2, name='epr')\n",
    "    \n",
    "    if teleportation:\n",
    "        cat_circ = qiskit.QuantumCircuit(cat_A_reg, epr_reg, cat_B_reg)\n",
    "    else:\n",
    "        cat_circ = qiskit.QuantumCircuit(cat_A_reg, cat_B_reg)\n",
    "    \n",
    "    # Create CAT state in each half - is there a way to do this in parallel?\n",
    "    #for qubits in [cat_A_reg, cat_B_reg]:\n",
    "    #    cat_circ.h(qubits[0])\n",
    "    #    for i in range(len(qubits) - 1):\n",
    "    #        cat_circ.cx(qubits[i], qubits[i+1])\n",
    "    cat_circ.h(cat_A_reg[0])\n",
    "    for i in range(len(cat_A_reg)-1):\n",
    "        cat_circ.cx(cat_A_reg[i], cat_A_reg[i+1])\n",
    "    \n",
    "    # Entangle the two halves\n",
    "    if teleportation:\n",
    "        cat_circ.barrier()\n",
    "        \n",
    "        creg = qiskit.ClassicalRegister(2, name='creg')\n",
    "        cat_circ.add_register(creg)\n",
    "        \n",
    "        # EPR generation (perfect)\n",
    "        cat_circ.h(epr_reg[0])\n",
    "        cat_circ.cx(epr_reg[0], epr_reg[1])\n",
    "        cat_circ.barrier(epr_reg)\n",
    "        \n",
    "        # Teleport a CNOT between A_reg and B_reg\n",
    "        cat_circ.cx(cat_A_reg[-1], epr_reg[0])\n",
    "        cat_circ.cx(epr_reg[1], cat_B_reg[0])\n",
    "        cat_circ.h(epr_reg[1])\n",
    "        \n",
    "        cat_circ.measure(epr_reg[0], creg[0])\n",
    "        cat_circ.measure(epr_reg[1], creg[1])\n",
    "        \n",
    "        cat_circ.append(XGate(), [cat_B_reg[0]]).c_if(creg[0], 1)\n",
    "        cat_circ.append(ZGate(), [cat_A_reg[-1]]).c_if(creg[1], 1)\n",
    "        \n",
    "        cat_circ.barrier()\n",
    "    else:\n",
    "        cat_circ.cx(cat_A_reg[-1], cat_B_reg[0])\n",
    "        \n",
    "    # Complete the CAT state in B register (is there a way to do this in parallel to the CNOT ladder in the A reg?)\n",
    "    for i in range(len(cat_B_reg)-1):\n",
    "        cat_circ.cx(cat_B_reg[i], cat_B_reg[i+1])\n",
    "    cat_circ.barrier()\n",
    "    \n",
    "    if verification:\n",
    "        # TODO: there are 2 remote CNOTs in the verification step that should be added here\n",
    "        cat_qubits = [*cat_A_reg, *cat_B_reg]\n",
    "        check = qiskit.QuantumRegister(num_A_qubits + num_B_qubits, name='check')\n",
    "        cat_circ.add_register(check)\n",
    "        for i, targ_qb in enumerate(check):\n",
    "            cat_circ.cx(cat_qubits[i], targ_qb)\n",
    "            cat_circ.cx(cat_qubits[(i+1) % len(cat_qubits)], targ_qb)\n",
    "        cat_circ.barrier()\n",
    "    \n",
    "    return cat_circ"
   ]
  },
  {
   "cell_type": "code",
   "execution_count": 165,
   "id": "5abdcbcb-2156-45ac-8733-c9877ad568f7",
   "metadata": {},
   "outputs": [
    {
     "name": "stdout",
     "output_type": "stream",
     "text": [
      "         ┌───┐           ░                                                           ░                 ░ ┌─┐                  \n",
      "cat_A_0: ┤ H ├──■────────░───────────────────────────────────────────────────────────░─────────────────░─┤M├──────────────────\n",
      "         └───┘┌─┴─┐      ░                                                           ░                 ░ └╥┘┌─┐               \n",
      "cat_A_1: ─────┤ X ├──■───░───────────────────────────────────────────────────────────░─────────────────░──╫─┤M├───────────────\n",
      "              └───┘┌─┴─┐ ░                                                ┌───┐      ░                 ░  ║ └╥┘┌─┐            \n",
      "cat_A_2: ──────────┤ X ├─░────────────────■───────────────────────────────┤ Z ├──────░─────────────────░──╫──╫─┤M├────────────\n",
      "                   └───┘ ░ ┌───┐      ░ ┌─┴─┐     ┌─┐                     └─╥─┘      ░                 ░  ║  ║ └╥┘            \n",
      "  epr_0: ────────────────░─┤ H ├──■───░─┤ X ├─────┤M├───────────────────────╫────────░─────────────────░──╫──╫──╫─────────────\n",
      "                         ░ └───┘┌─┴─┐ ░ └───┘┌───┐└╥┘┌─┐                    ║        ░                 ░  ║  ║  ║             \n",
      "  epr_1: ────────────────░──────┤ X ├─░───■──┤ H ├─╫─┤M├────────────────────╫────────░─────────────────░──╫──╫──╫─────────────\n",
      "                         ░      └───┘ ░ ┌─┴─┐└───┘ ║ └╥┘    ┌───┐           ║        ░                 ░  ║  ║  ║ ┌─┐         \n",
      "cat_B_0: ────────────────░──────────────┤ X ├──────╫──╫─────┤ X ├───────────╫────────░───■─────────────░──╫──╫──╫─┤M├─────────\n",
      "                         ░              └───┘      ║  ║     └─╥─┘           ║        ░ ┌─┴─┐           ░  ║  ║  ║ └╥┘┌─┐      \n",
      "cat_B_1: ────────────────░─────────────────────────╫──╫───────╫─────────────╫────────░─┤ X ├──■────────░──╫──╫──╫──╫─┤M├──────\n",
      "                         ░                         ║  ║       ║             ║        ░ └───┘┌─┴─┐      ░  ║  ║  ║  ║ └╥┘┌─┐   \n",
      "cat_B_2: ────────────────░─────────────────────────╫──╫───────╫─────────────╫────────░──────┤ X ├──■───░──╫──╫──╫──╫──╫─┤M├───\n",
      "                         ░                         ║  ║       ║             ║        ░      └───┘┌─┴─┐ ░  ║  ║  ║  ║  ║ └╥┘┌─┐\n",
      "cat_B_3: ────────────────░─────────────────────────╫──╫───────╫─────────────╫────────░───────────┤ X ├─░──╫──╫──╫──╫──╫──╫─┤M├\n",
      "                         ░                         ║  ║ ┌─────╨──────┐┌─────╨──────┐ ░           └───┘ ░  ║  ║  ║  ║  ║  ║ └╥┘\n",
      " creg: 2/══════════════════════════════════════════╩══╩═╡ creg_0=0x1 ╞╡ creg_1=0x1 ╞══════════════════════╬══╬══╬══╬══╬══╬══╬═\n",
      "                                                   0  1 └────────────┘└────────────┘                      ║  ║  ║  ║  ║  ║  ║ \n",
      "    c: 7/═════════════════════════════════════════════════════════════════════════════════════════════════╩══╩══╩══╩══╩══╩══╩═\n",
      "                                                                                                          0  1  2  3  4  5  6 \n"
     ]
    },
    {
     "data": {
      "text/plain": [
       "{'1111111 11': 133,\n",
       " '0000000 11': 120,\n",
       " '1111111 01': 124,\n",
       " '0000000 01': 129,\n",
       " '0000000 00': 103,\n",
       " '0000000 10': 140,\n",
       " '1111111 10': 150,\n",
       " '1111111 00': 125}"
      ]
     },
     "execution_count": 165,
     "metadata": {},
     "output_type": "execute_result"
    }
   ],
   "source": [
    "circ = cat_state(3, 4, teleportation=True, verification=False)\n",
    "\n",
    "regA = [qreg for qreg in circ.qregs if qreg.name == 'cat_A'][0]\n",
    "regB = [qreg for qreg in circ.qregs if qreg.name == 'cat_B'][0]\n",
    "        \n",
    "c = qiskit.ClassicalRegister(len(regA) + len(regB), name='c')\n",
    "circ.add_register(c)\n",
    "\n",
    "circ.measure([*regA, *regB], c)\n",
    "print(circ.draw(fold=-1))\n",
    "\n",
    "result = qiskit.execute(circ, backend).result()\n",
    "counts = result.get_counts()\n",
    "counts"
   ]
  },
  {
   "cell_type": "markdown",
   "id": "10670fd6-81f0-45e3-b422-2ef741b6b5e1",
   "metadata": {},
   "source": [
    "### CAT state generation w/ SeqOp layout\n",
    "- SWAP into/out of memory\n",
    "- SWAP between two transmons"
   ]
  },
  {
   "cell_type": "code",
   "execution_count": null,
   "id": "871346df-f388-4d0b-8c23-588db8ec04ce",
   "metadata": {},
   "outputs": [],
   "source": []
  },
  {
   "cell_type": "code",
   "execution_count": null,
   "id": "49ef06f3-c6b2-40fd-b6f3-01eb2ae63ab7",
   "metadata": {},
   "outputs": [],
   "source": []
  },
  {
   "cell_type": "code",
   "execution_count": null,
   "id": "d770e86b-1f5c-4bdd-85f0-099aec988e4c",
   "metadata": {},
   "outputs": [],
   "source": []
  },
  {
   "cell_type": "markdown",
   "id": "f5843254-92fb-4328-8c50-71eb6b0804a0",
   "metadata": {},
   "source": [
    "## 2. Logical $|+\\rangle$ state generation\n",
    "Logical Steane $|0\\rangle_L=|0000000\\rangle + |1010101\\rangle + |0110011\\rangle + |1100110\\rangle + |0001111\\rangle + |1011010\\rangle + |0111100\\rangle + |1101001\\rangle$\n",
    "\n",
    "(The above was taken from Equation 41 of this [paper](https://www2.physics.ox.ac.uk/sites/default/files/ErrorCorrectionSteane06.pdf)) Also note that the ordering of qubits is reversed because Qiskit is little endian...\n",
    "\n",
    "The $|+\\rangle$ state can be prepared directly (see Figure 12 of this [paper](https://arxiv.org/pdf/quant-ph/0504218.pdf)). To check this circuit works, I'll prepare $|+\\rangle$ directly then apply logical $H$ (obtained by transversal Hadamards on each data qubit) to convice ourselves that this is the correct state."
   ]
  },
  {
   "cell_type": "code",
   "execution_count": 126,
   "id": "296a929c-254f-4f74-84e8-971283edc995",
   "metadata": {},
   "outputs": [],
   "source": [
    "def steane_plus():\n",
    "    # Steane code logical |+> state\n",
    "    steane_reg = qiskit.QuantumRegister(7, name='steane')\n",
    "    steane_plus = qiskit.QuantumCircuit(steane_reg)\n",
    "    steane_plus.h([2,4,5,6])\n",
    "    for pair in [(2,0), (5,3), (6,1), (4,0), (6,3), (5,1), (6,0), (2,1), (4,3)]:\n",
    "        steane_plus.cx(pair[0], pair[1])\n",
    "    return steane_plus"
   ]
  },
  {
   "cell_type": "code",
   "execution_count": 127,
   "id": "ee2b19fd-b3d5-4524-b644-818b7190e84f",
   "metadata": {},
   "outputs": [
    {
     "name": "stdout",
     "output_type": "stream",
     "text": [
      "               ┌───┐     ┌───┐          ┌───┐      ░ ┌───┐ ░ \n",
      "steane_0: ─────┤ X ├─────┤ X ├──────────┤ X ├──────░─┤ H ├─░─\n",
      "               └─┬─┘┌───┐└─┬─┘     ┌───┐└─┬─┘┌───┐ ░ ├───┤ ░ \n",
      "steane_1: ───────┼──┤ X ├──┼───────┤ X ├──┼──┤ X ├─░─┤ H ├─░─\n",
      "          ┌───┐  │  └─┬─┘  │       └─┬─┘  │  └─┬─┘ ░ ├───┤ ░ \n",
      "steane_2: ┤ H ├──■────┼────┼─────────┼────┼────■───░─┤ H ├─░─\n",
      "          └───┘┌───┐  │    │  ┌───┐  │    │  ┌───┐ ░ ├───┤ ░ \n",
      "steane_3: ─────┤ X ├──┼────┼──┤ X ├──┼────┼──┤ X ├─░─┤ H ├─░─\n",
      "          ┌───┐└─┬─┘  │    │  └─┬─┘  │    │  └─┬─┘ ░ ├───┤ ░ \n",
      "steane_4: ┤ H ├──┼────┼────■────┼────┼────┼────■───░─┤ H ├─░─\n",
      "          ├───┤  │    │         │    │    │        ░ ├───┤ ░ \n",
      "steane_5: ┤ H ├──■────┼─────────┼────■────┼────────░─┤ H ├─░─\n",
      "          ├───┤       │         │         │        ░ ├───┤ ░ \n",
      "steane_6: ┤ H ├───────■─────────■─────────■────────░─┤ H ├─░─\n",
      "          └───┘                                    ░ └───┘ ░ \n"
     ]
    },
    {
     "data": {
      "text/plain": [
       "{'0000000': 0.125,\n",
       " '0011110': 0.125,\n",
       " '0101101': 0.125,\n",
       " '0110011': 0.125,\n",
       " '1001011': 0.125,\n",
       " '1010101': 0.125,\n",
       " '1100110': 0.125,\n",
       " '1111000': 0.125}"
      ]
     },
     "execution_count": 127,
     "metadata": {},
     "output_type": "execute_result"
    }
   ],
   "source": [
    "plus_circ = steane_plus()\n",
    "\n",
    "plus_circ.barrier()\n",
    "\n",
    "# Apply logical Hadamard\n",
    "for qubit in steane_reg:\n",
    "    plus_circ.h(qubit)\n",
    "plus_circ.save_statevector()\n",
    "\n",
    "print(plus_circ.draw())\n",
    "\n",
    "# Check statevector\n",
    "result = qiskit.execute(plus_circ, backend).result()\n",
    "sv = result.get_statevector()\n",
    "sv.probabilities_dict(decimals=5) # check that statevector matches |0> written out above"
   ]
  },
  {
   "cell_type": "markdown",
   "id": "89cd20ef-9023-4290-ac8e-b04064860e35",
   "metadata": {},
   "source": [
    "## 3. Transversal CNOTs"
   ]
  },
  {
   "cell_type": "code",
   "execution_count": 128,
   "id": "f6abaad2-fd26-4e26-ba27-54b458f8752f",
   "metadata": {},
   "outputs": [],
   "source": [
    "def do_cnots():\n",
    "    plus_circ = steane_plus()\n",
    "    cat_circ = cat_state(7,7)\n",
    "\n",
    "    code_A_reg = qiskit.QuantumRegister(7, name='code_A')\n",
    "    code_B_reg = qiskit.QuantumRegister(7, name='code_B')\n",
    "    cat_A_reg = qiskit.QuantumRegister(7, name='cat_A')\n",
    "    cat_B_reg = qiskit.QuantumRegister(7, name='cat_B')\n",
    "\n",
    "    full_circ = qiskit.QuantumCircuit(code_A_reg, cat_A_reg, cat_B_reg, code_B_reg)\n",
    "\n",
    "    full_circ.compose(plus_circ, code_A_reg, inplace=True)\n",
    "    full_circ.compose(cat_circ, [*cat_A_reg, *cat_B_reg], inplace=True)\n",
    "    full_circ.compose(plus_circ, code_B_reg, inplace=True)\n",
    "\n",
    "    for ctrl, targ in zip(code_A_reg, cat_A_reg):\n",
    "        full_circ.cx(ctrl, targ)\n",
    "\n",
    "    for ctrl, targ in zip(code_B_reg, cat_B_reg):\n",
    "        full_circ.cx(ctrl, targ)\n",
    "    \n",
    "    return full_circ"
   ]
  },
  {
   "cell_type": "code",
   "execution_count": 129,
   "id": "d5a1a2a6-0df4-42ff-b65c-eba7d620ffe1",
   "metadata": {},
   "outputs": [
    {
     "data": {
      "text/html": [
       "<pre style=\"word-wrap: normal;white-space: pre;background: #fff0;line-height: 1.1;font-family: &quot;Courier New&quot;,Courier,monospace\">               ┌───┐     ┌───┐          ┌───┐                                                                         \n",
       "code_A_0: ─────┤ X ├─────┤ X ├──────────┤ X ├────────────────────────────────────────■────────────────────────────────\n",
       "               └─┬─┘┌───┐└─┬─┘     ┌───┐└─┬─┘┌───┐                                   │                                \n",
       "code_A_1: ───────┼──┤ X ├──┼───────┤ X ├──┼──┤ X ├───────────────────────────────────┼────■───────────────────────────\n",
       "          ┌───┐  │  └─┬─┘  │       └─┬─┘  │  └─┬─┘                                   │    │                           \n",
       "code_A_2: ┤ H ├──■────┼────┼─────────┼────┼────■─────────────────────────────────────┼────┼────■──────────────────────\n",
       "          └───┘┌───┐  │    │  ┌───┐  │    │  ┌───┐                                   │    │    │                      \n",
       "code_A_3: ─────┤ X ├──┼────┼──┤ X ├──┼────┼──┤ X ├───────────────────────────────────┼────┼────┼────■─────────────────\n",
       "          ┌───┐└─┬─┘  │    │  └─┬─┘  │    │  └─┬─┘                                   │    │    │    │                 \n",
       "code_A_4: ┤ H ├──┼────┼────■────┼────┼────┼────■─────────────────────────────────────┼────┼────┼────┼────■────────────\n",
       "          ├───┤  │    │         │    │    │                                          │    │    │    │    │            \n",
       "code_A_5: ┤ H ├──■────┼─────────┼────■────┼──────────────────────────────────────────┼────┼────┼────┼────┼────■───────\n",
       "          ├───┤       │         │         │                                          │    │    │    │    │    │       \n",
       "code_A_6: ┤ H ├───────■─────────■─────────■──────────────────────────────────────────┼────┼────┼────┼────┼────┼────■──\n",
       "          ├───┤                                                                  ░ ┌─┴─┐  │    │    │    │    │    │  \n",
       " cat_A_0: ┤ H ├──■───────────────────────────────────────────────────────────────░─┤ X ├──┼────┼────┼────┼────┼────┼──\n",
       "          └───┘┌─┴─┐                                                             ░ └───┘┌─┴─┐  │    │    │    │    │  \n",
       " cat_A_1: ─────┤ X ├──■──────────────────────────────────────────────────────────░──────┤ X ├──┼────┼────┼────┼────┼──\n",
       "               └───┘┌─┴─┐                                                        ░      └───┘┌─┴─┐  │    │    │    │  \n",
       " cat_A_2: ──────────┤ X ├──■─────────────────────────────────────────────────────░───────────┤ X ├──┼────┼────┼────┼──\n",
       "                    └───┘┌─┴─┐                                                   ░           └───┘┌─┴─┐  │    │    │  \n",
       " cat_A_3: ───────────────┤ X ├──■────────────────────────────────────────────────░────────────────┤ X ├──┼────┼────┼──\n",
       "                         └───┘┌─┴─┐                                              ░                └───┘┌─┴─┐  │    │  \n",
       " cat_A_4: ────────────────────┤ X ├──■───────────────────────────────────────────░─────────────────────┤ X ├──┼────┼──\n",
       "                              └───┘┌─┴─┐                                         ░                     └───┘┌─┴─┐  │  \n",
       " cat_A_5: ─────────────────────────┤ X ├──■──────────────────────────────────────░──────────────────────────┤ X ├──┼──\n",
       "                                   └───┘┌─┴─┐                                    ░                          └───┘┌─┴─┐\n",
       " cat_A_6: ──────────────────────────────┤ X ├──■─────────────────────────────────░───────────────────────────────┤ X ├\n",
       "                                        └───┘┌─┴─┐                               ░ ┌───┐                         └───┘\n",
       " cat_B_0: ───────────────────────────────────┤ X ├──■────────────────────────────░─┤ X ├──────────────────────────────\n",
       "                                             └───┘┌─┴─┐                          ░ └─┬─┘┌───┐                         \n",
       " cat_B_1: ────────────────────────────────────────┤ X ├──■───────────────────────░───┼──┤ X ├─────────────────────────\n",
       "                                                  └───┘┌─┴─┐                     ░   │  └─┬─┘┌───┐                    \n",
       " cat_B_2: ─────────────────────────────────────────────┤ X ├──■──────────────────░───┼────┼──┤ X ├────────────────────\n",
       "                                                       └───┘┌─┴─┐                ░   │    │  └─┬─┘┌───┐               \n",
       " cat_B_3: ──────────────────────────────────────────────────┤ X ├──■─────────────░───┼────┼────┼──┤ X ├───────────────\n",
       "                                                            └───┘┌─┴─┐           ░   │    │    │  └─┬─┘┌───┐          \n",
       " cat_B_4: ───────────────────────────────────────────────────────┤ X ├──■────────░───┼────┼────┼────┼──┤ X ├──────────\n",
       "                                                                 └───┘┌─┴─┐      ░   │    │    │    │  └─┬─┘┌───┐     \n",
       " cat_B_5: ────────────────────────────────────────────────────────────┤ X ├──■───░───┼────┼────┼────┼────┼──┤ X ├─────\n",
       "                                                                      └───┘┌─┴─┐ ░   │    │    │    │    │  └─┬─┘┌───┐\n",
       " cat_B_6: ─────────────────────────────────────────────────────────────────┤ X ├─░───┼────┼────┼────┼────┼────┼──┤ X ├\n",
       "               ┌───┐     ┌───┐          ┌───┐                              └───┘ ░   │    │    │    │    │    │  └─┬─┘\n",
       "code_B_0: ─────┤ X ├─────┤ X ├──────────┤ X ├────────────────────────────────────────■────┼────┼────┼────┼────┼────┼──\n",
       "               └─┬─┘┌───┐└─┬─┘     ┌───┐└─┬─┘┌───┐                                        │    │    │    │    │    │  \n",
       "code_B_1: ───────┼──┤ X ├──┼───────┤ X ├──┼──┤ X ├────────────────────────────────────────■────┼────┼────┼────┼────┼──\n",
       "          ┌───┐  │  └─┬─┘  │       └─┬─┘  │  └─┬─┘                                             │    │    │    │    │  \n",
       "code_B_2: ┤ H ├──■────┼────┼─────────┼────┼────■───────────────────────────────────────────────■────┼────┼────┼────┼──\n",
       "          └───┘┌───┐  │    │  ┌───┐  │    │  ┌───┐                                                  │    │    │    │  \n",
       "code_B_3: ─────┤ X ├──┼────┼──┤ X ├──┼────┼──┤ X ├──────────────────────────────────────────────────■────┼────┼────┼──\n",
       "          ┌───┐└─┬─┘  │    │  └─┬─┘  │    │  └─┬─┘                                                       │    │    │  \n",
       "code_B_4: ┤ H ├──┼────┼────■────┼────┼────┼────■─────────────────────────────────────────────────────────■────┼────┼──\n",
       "          ├───┤  │    │         │    │    │                                                                   │    │  \n",
       "code_B_5: ┤ H ├──■────┼─────────┼────■────┼───────────────────────────────────────────────────────────────────■────┼──\n",
       "          ├───┤       │         │         │                                                                        │  \n",
       "code_B_6: ┤ H ├───────■─────────■─────────■────────────────────────────────────────────────────────────────────────■──\n",
       "          └───┘                                                                                                       </pre>"
      ],
      "text/plain": [
       "               ┌───┐     ┌───┐          ┌───┐                                                                         \n",
       "code_A_0: ─────┤ X ├─────┤ X ├──────────┤ X ├────────────────────────────────────────■────────────────────────────────\n",
       "               └─┬─┘┌───┐└─┬─┘     ┌───┐└─┬─┘┌───┐                                   │                                \n",
       "code_A_1: ───────┼──┤ X ├──┼───────┤ X ├──┼──┤ X ├───────────────────────────────────┼────■───────────────────────────\n",
       "          ┌───┐  │  └─┬─┘  │       └─┬─┘  │  └─┬─┘                                   │    │                           \n",
       "code_A_2: ┤ H ├──■────┼────┼─────────┼────┼────■─────────────────────────────────────┼────┼────■──────────────────────\n",
       "          └───┘┌───┐  │    │  ┌───┐  │    │  ┌───┐                                   │    │    │                      \n",
       "code_A_3: ─────┤ X ├──┼────┼──┤ X ├──┼────┼──┤ X ├───────────────────────────────────┼────┼────┼────■─────────────────\n",
       "          ┌───┐└─┬─┘  │    │  └─┬─┘  │    │  └─┬─┘                                   │    │    │    │                 \n",
       "code_A_4: ┤ H ├──┼────┼────■────┼────┼────┼────■─────────────────────────────────────┼────┼────┼────┼────■────────────\n",
       "          ├───┤  │    │         │    │    │                                          │    │    │    │    │            \n",
       "code_A_5: ┤ H ├──■────┼─────────┼────■────┼──────────────────────────────────────────┼────┼────┼────┼────┼────■───────\n",
       "          ├───┤       │         │         │                                          │    │    │    │    │    │       \n",
       "code_A_6: ┤ H ├───────■─────────■─────────■──────────────────────────────────────────┼────┼────┼────┼────┼────┼────■──\n",
       "          ├───┤                                                                  ░ ┌─┴─┐  │    │    │    │    │    │  \n",
       " cat_A_0: ┤ H ├──■───────────────────────────────────────────────────────────────░─┤ X ├──┼────┼────┼────┼────┼────┼──\n",
       "          └───┘┌─┴─┐                                                             ░ └───┘┌─┴─┐  │    │    │    │    │  \n",
       " cat_A_1: ─────┤ X ├──■──────────────────────────────────────────────────────────░──────┤ X ├──┼────┼────┼────┼────┼──\n",
       "               └───┘┌─┴─┐                                                        ░      └───┘┌─┴─┐  │    │    │    │  \n",
       " cat_A_2: ──────────┤ X ├──■─────────────────────────────────────────────────────░───────────┤ X ├──┼────┼────┼────┼──\n",
       "                    └───┘┌─┴─┐                                                   ░           └───┘┌─┴─┐  │    │    │  \n",
       " cat_A_3: ───────────────┤ X ├──■────────────────────────────────────────────────░────────────────┤ X ├──┼────┼────┼──\n",
       "                         └───┘┌─┴─┐                                              ░                └───┘┌─┴─┐  │    │  \n",
       " cat_A_4: ────────────────────┤ X ├──■───────────────────────────────────────────░─────────────────────┤ X ├──┼────┼──\n",
       "                              └───┘┌─┴─┐                                         ░                     └───┘┌─┴─┐  │  \n",
       " cat_A_5: ─────────────────────────┤ X ├──■──────────────────────────────────────░──────────────────────────┤ X ├──┼──\n",
       "                                   └───┘┌─┴─┐                                    ░                          └───┘┌─┴─┐\n",
       " cat_A_6: ──────────────────────────────┤ X ├──■─────────────────────────────────░───────────────────────────────┤ X ├\n",
       "                                        └───┘┌─┴─┐                               ░ ┌───┐                         └───┘\n",
       " cat_B_0: ───────────────────────────────────┤ X ├──■────────────────────────────░─┤ X ├──────────────────────────────\n",
       "                                             └───┘┌─┴─┐                          ░ └─┬─┘┌───┐                         \n",
       " cat_B_1: ────────────────────────────────────────┤ X ├──■───────────────────────░───┼──┤ X ├─────────────────────────\n",
       "                                                  └───┘┌─┴─┐                     ░   │  └─┬─┘┌───┐                    \n",
       " cat_B_2: ─────────────────────────────────────────────┤ X ├──■──────────────────░───┼────┼──┤ X ├────────────────────\n",
       "                                                       └───┘┌─┴─┐                ░   │    │  └─┬─┘┌───┐               \n",
       " cat_B_3: ──────────────────────────────────────────────────┤ X ├──■─────────────░───┼────┼────┼──┤ X ├───────────────\n",
       "                                                            └───┘┌─┴─┐           ░   │    │    │  └─┬─┘┌───┐          \n",
       " cat_B_4: ───────────────────────────────────────────────────────┤ X ├──■────────░───┼────┼────┼────┼──┤ X ├──────────\n",
       "                                                                 └───┘┌─┴─┐      ░   │    │    │    │  └─┬─┘┌───┐     \n",
       " cat_B_5: ────────────────────────────────────────────────────────────┤ X ├──■───░───┼────┼────┼────┼────┼──┤ X ├─────\n",
       "                                                                      └───┘┌─┴─┐ ░   │    │    │    │    │  └─┬─┘┌───┐\n",
       " cat_B_6: ─────────────────────────────────────────────────────────────────┤ X ├─░───┼────┼────┼────┼────┼────┼──┤ X ├\n",
       "               ┌───┐     ┌───┐          ┌───┐                              └───┘ ░   │    │    │    │    │    │  └─┬─┘\n",
       "code_B_0: ─────┤ X ├─────┤ X ├──────────┤ X ├────────────────────────────────────────■────┼────┼────┼────┼────┼────┼──\n",
       "               └─┬─┘┌───┐└─┬─┘     ┌───┐└─┬─┘┌───┐                                        │    │    │    │    │    │  \n",
       "code_B_1: ───────┼──┤ X ├──┼───────┤ X ├──┼──┤ X ├────────────────────────────────────────■────┼────┼────┼────┼────┼──\n",
       "          ┌───┐  │  └─┬─┘  │       └─┬─┘  │  └─┬─┘                                             │    │    │    │    │  \n",
       "code_B_2: ┤ H ├──■────┼────┼─────────┼────┼────■───────────────────────────────────────────────■────┼────┼────┼────┼──\n",
       "          └───┘┌───┐  │    │  ┌───┐  │    │  ┌───┐                                                  │    │    │    │  \n",
       "code_B_3: ─────┤ X ├──┼────┼──┤ X ├──┼────┼──┤ X ├──────────────────────────────────────────────────■────┼────┼────┼──\n",
       "          ┌───┐└─┬─┘  │    │  └─┬─┘  │    │  └─┬─┘                                                       │    │    │  \n",
       "code_B_4: ┤ H ├──┼────┼────■────┼────┼────┼────■─────────────────────────────────────────────────────────■────┼────┼──\n",
       "          ├───┤  │    │         │    │    │                                                                   │    │  \n",
       "code_B_5: ┤ H ├──■────┼─────────┼────■────┼───────────────────────────────────────────────────────────────────■────┼──\n",
       "          ├───┤       │         │         │                                                                        │  \n",
       "code_B_6: ┤ H ├───────■─────────■─────────■────────────────────────────────────────────────────────────────────────■──\n",
       "          └───┘                                                                                                       "
      ]
     },
     "execution_count": 129,
     "metadata": {},
     "output_type": "execute_result"
    }
   ],
   "source": [
    "circ = do_cnots()\n",
    "circ.draw(fold=-1)"
   ]
  },
  {
   "cell_type": "markdown",
   "id": "e7902b40-860c-4b34-986f-7a16bcc91ab8",
   "metadata": {},
   "source": [
    "## 4. Logical Z-basis measurement\n",
    "### Test projective measurement on logical $|0\\rangle$ state\n",
    "For the Steane code, the logical Z operator is transversal, so to measure our logical (encoded) qubit in the logical Z basis, we use a projective measurement.\n",
    "See the circuit shown in Equation 10 of [Dave Bacon's lecture notes] for an explanation of how the projective measurements work."
   ]
  },
  {
   "cell_type": "code",
   "execution_count": 120,
   "id": "2f56c023-62f1-4a58-856a-3a1a011be17f",
   "metadata": {},
   "outputs": [
    {
     "data": {
      "text/html": [
       "<pre style=\"word-wrap: normal;white-space: pre;background: #fff0;line-height: 1.1;font-family: &quot;Courier New&quot;,Courier,monospace\">               ┌───┐                                    ░                            ░ ┌─┐                     \n",
       "     steane_0: ┤ H ├──■─────────■──────────────■────────░──■─────────────────────────░─┤M├─────────────────────\n",
       "               ├───┤  │         │              │        ░  │                         ░ └╥┘┌─┐                  \n",
       "     steane_1: ┤ H ├──┼────■────┼─────────■────┼────■───░──┼──■──────────────────────░──╫─┤M├──────────────────\n",
       "               └───┘┌─┴─┐  │    │         │    │  ┌─┴─┐ ░  │  │                      ░  ║ └╥┘┌─┐               \n",
       "     steane_2: ─────┤ X ├──┼────┼─────────┼────┼──┤ X ├─░──┼──┼──■───────────────────░──╫──╫─┤M├───────────────\n",
       "               ┌───┐└───┘  │    │         │    │  └───┘ ░  │  │  │                   ░  ║  ║ └╥┘┌─┐            \n",
       "     steane_3: ┤ H ├──■────┼────┼────■────┼────┼────■───░──┼──┼──┼──■────────────────░──╫──╫──╫─┤M├────────────\n",
       "               └───┘  │    │  ┌─┴─┐  │    │    │  ┌─┴─┐ ░  │  │  │  │                ░  ║  ║  ║ └╥┘┌─┐         \n",
       "     steane_4: ───────┼────┼──┤ X ├──┼────┼────┼──┤ X ├─░──┼──┼──┼──┼──■─────────────░──╫──╫──╫──╫─┤M├─────────\n",
       "                    ┌─┴─┐  │  └───┘  │  ┌─┴─┐  │  └───┘ ░  │  │  │  │  │             ░  ║  ║  ║  ║ └╥┘┌─┐      \n",
       "     steane_5: ─────┤ X ├──┼─────────┼──┤ X ├──┼────────░──┼──┼──┼──┼──┼──■──────────░──╫──╫──╫──╫──╫─┤M├──────\n",
       "                    └───┘┌─┴─┐     ┌─┴─┐└───┘┌─┴─┐      ░  │  │  │  │  │  │          ░  ║  ║  ║  ║  ║ └╥┘┌─┐   \n",
       "     steane_6: ──────────┤ X ├─────┤ X ├─────┤ X ├──────░──┼──┼──┼──┼──┼──┼──■───────░──╫──╫──╫──╫──╫──╫─┤M├───\n",
       "               ┌───┐     └───┘     └───┘     └───┘      ░  │  │  │  │  │  │  │ ┌───┐ ░  ║  ║  ║  ║  ║  ║ └╥┘┌─┐\n",
       "      ancilla: ┤ H ├───────────────────────────────────────■──■──■──■──■──■──■─┤ H ├─░──╫──╫──╫──╫──╫──╫──╫─┤M├\n",
       "               └───┘                                                           └───┘ ░  ║  ║  ║  ║  ║  ║  ║ └╥┘\n",
       "     z_meas: 1/═════════════════════════════════════════════════════════════════════════╬══╬══╬══╬══╬══╬══╬══╩═\n",
       "                                                                                        ║  ║  ║  ║  ║  ║  ║  0 \n",
       "                                                                                        ║  ║  ║  ║  ║  ║  ║    \n",
       "steane_meas: 7/═════════════════════════════════════════════════════════════════════════╩══╩══╩══╩══╩══╩══╩════\n",
       "                                                                                        0  1  2  3  4  5  6    </pre>"
      ],
      "text/plain": [
       "               ┌───┐                                    ░                            ░ ┌─┐                     \n",
       "     steane_0: ┤ H ├──■─────────■──────────────■────────░──■─────────────────────────░─┤M├─────────────────────\n",
       "               ├───┤  │         │              │        ░  │                         ░ └╥┘┌─┐                  \n",
       "     steane_1: ┤ H ├──┼────■────┼─────────■────┼────■───░──┼──■──────────────────────░──╫─┤M├──────────────────\n",
       "               └───┘┌─┴─┐  │    │         │    │  ┌─┴─┐ ░  │  │                      ░  ║ └╥┘┌─┐               \n",
       "     steane_2: ─────┤ X ├──┼────┼─────────┼────┼──┤ X ├─░──┼──┼──■───────────────────░──╫──╫─┤M├───────────────\n",
       "               ┌───┐└───┘  │    │         │    │  └───┘ ░  │  │  │                   ░  ║  ║ └╥┘┌─┐            \n",
       "     steane_3: ┤ H ├──■────┼────┼────■────┼────┼────■───░──┼──┼──┼──■────────────────░──╫──╫──╫─┤M├────────────\n",
       "               └───┘  │    │  ┌─┴─┐  │    │    │  ┌─┴─┐ ░  │  │  │  │                ░  ║  ║  ║ └╥┘┌─┐         \n",
       "     steane_4: ───────┼────┼──┤ X ├──┼────┼────┼──┤ X ├─░──┼──┼──┼──┼──■─────────────░──╫──╫──╫──╫─┤M├─────────\n",
       "                    ┌─┴─┐  │  └───┘  │  ┌─┴─┐  │  └───┘ ░  │  │  │  │  │             ░  ║  ║  ║  ║ └╥┘┌─┐      \n",
       "     steane_5: ─────┤ X ├──┼─────────┼──┤ X ├──┼────────░──┼──┼──┼──┼──┼──■──────────░──╫──╫──╫──╫──╫─┤M├──────\n",
       "                    └───┘┌─┴─┐     ┌─┴─┐└───┘┌─┴─┐      ░  │  │  │  │  │  │          ░  ║  ║  ║  ║  ║ └╥┘┌─┐   \n",
       "     steane_6: ──────────┤ X ├─────┤ X ├─────┤ X ├──────░──┼──┼──┼──┼──┼──┼──■───────░──╫──╫──╫──╫──╫──╫─┤M├───\n",
       "               ┌───┐     └───┘     └───┘     └───┘      ░  │  │  │  │  │  │  │ ┌───┐ ░  ║  ║  ║  ║  ║  ║ └╥┘┌─┐\n",
       "      ancilla: ┤ H ├───────────────────────────────────────■──■──■──■──■──■──■─┤ H ├─░──╫──╫──╫──╫──╫──╫──╫─┤M├\n",
       "               └───┘                                                           └───┘ ░  ║  ║  ║  ║  ║  ║  ║ └╥┘\n",
       "     z_meas: 1/═════════════════════════════════════════════════════════════════════════╬══╬══╬══╬══╬══╬══╬══╩═\n",
       "                                                                                        ║  ║  ║  ║  ║  ║  ║  0 \n",
       "                                                                                        ║  ║  ║  ║  ║  ║  ║    \n",
       "steane_meas: 7/═════════════════════════════════════════════════════════════════════════╩══╩══╩══╩══╩══╩══╩════\n",
       "                                                                                        0  1  2  3  4  5  6    "
      ]
     },
     "execution_count": 120,
     "metadata": {},
     "output_type": "execute_result"
    }
   ],
   "source": [
    "# Steane code logical |0> state\n",
    "steane_reg = qiskit.QuantumRegister(7, name='steane')\n",
    "steane_zero = qiskit.QuantumCircuit(steane_reg)\n",
    "steane_zero.h([0,1,3])\n",
    "for pair in [(0,2), (3,5), (1,6), (0,4), (3,6), (1,5), (0,6), (1,2), (3,4)]:\n",
    "    steane_zero.cx(pair[0], pair[1])\n",
    "steane_zero.barrier()\n",
    "\n",
    "anc_reg = qiskit.QuantumRegister(1, name='ancilla')\n",
    "steane_zero.add_register(anc_reg)\n",
    "steane_zero.h(anc_reg[0])\n",
    "for qubit in steane_reg:\n",
    "    steane_zero.cz(anc_reg[0], qubit)\n",
    "steane_zero.h(anc_reg[0])\n",
    "steane_zero.barrier()\n",
    "\n",
    "anc_bit_reg = qiskit.ClassicalRegister(1, name='z_meas')\n",
    "steane_bit_reg = qiskit.ClassicalRegister(7, name='steane_meas')\n",
    "steane_zero.add_register(anc_bit_reg, steane_bit_reg)\n",
    "steane_zero.measure(steane_reg, steane_bit_reg)\n",
    "steane_zero.measure(anc_reg, anc_bit_reg)\n",
    "steane_zero.draw(fold=-1)"
   ]
  },
  {
   "cell_type": "code",
   "execution_count": 122,
   "id": "8afd7d27-7132-4dc2-980f-dd0874dadd20",
   "metadata": {},
   "outputs": [
    {
     "name": "stdout",
     "output_type": "stream",
     "text": [
      "{'1111000 0': 1309, '1100110 0': 1168, '0011110 0': 1236, '1001011 0': 1259, '0000000 0': 1262, '1010101 0': 1274, '0110011 0': 1256, '0101101 0': 1236}\n",
      "When the ancilla was measured to be in state |0>\n",
      "The other qubits were measured to be in (BIG ENDIAN):\n",
      "\t000111: 0.131\n",
      "\t011001: 0.117\n",
      "\t011110: 0.124\n",
      "\t110100: 0.126\n",
      "\t000000: 0.126\n",
      "\t101010: 0.127\n",
      "\t110011: 0.126\n",
      "\t101101: 0.124\n",
      "When the ancilla was measured to be in state |1>\n",
      "The other qubits were measured to be in (BIG ENDIAN):\n"
     ]
    }
   ],
   "source": [
    "result = qiskit.execute(steane_zero, backend, shots=10000).result()\n",
    "counts = result.get_counts()\n",
    "\n",
    "print(counts)\n",
    "\n",
    "# parse the counts to be human readable\n",
    "for anc_result in ['0', '1']:\n",
    "    print(f'When the ancilla was measured to be in state |{anc_result}>')\n",
    "    print('The other qubits were measured to be in (BIG ENDIAN):')\n",
    "    post_selected_states = {key.split()[0]: val for key, val in counts.items() if key[-1] == anc_result}\n",
    "    post_shot_total = sum(post_selected_states.values())\n",
    "    for state, shots in post_selected_states.items():\n",
    "        print(f'\\t{\"\".join(list(state)[::-1][:-1])}: {shots / post_shot_total:.3f}')"
   ]
  },
  {
   "cell_type": "markdown",
   "id": "52838b81-f0be-4c73-89fa-a35ce96a36ec",
   "metadata": {},
   "source": [
    "### Logical Z measurement on CAT state halves"
   ]
  },
  {
   "cell_type": "code",
   "execution_count": 190,
   "id": "dde5d9a8-53cb-411f-8195-c4af22ef4a98",
   "metadata": {},
   "outputs": [],
   "source": [
    "def ct_module():\n",
    "    circ = do_cnots()\n",
    "\n",
    "    code_A_reg = [qreg for qreg in circ.qregs if qreg.name == 'code_A'][0]\n",
    "    code_B_reg = [qreg for qreg in circ.qregs if qreg.name == 'code_B'][0]\n",
    "    code_regs = [code_A_reg, code_B_reg]\n",
    "    \n",
    "    cat_A_reg = [qreg for qreg in circ.qregs if qreg.name == 'cat_A'][0]\n",
    "    cat_B_reg = [qreg for qreg in circ.qregs if qreg.name == 'cat_B'][0]\n",
    "    cat_regs = [cat_A_reg, cat_B_reg]\n",
    "    \n",
    "    # Add ancilla qubits for projective measurement\n",
    "    anc_reg = qiskit.QuantumRegister(2, name='ancilla')\n",
    "    bit_reg = qiskit.ClassicalRegister(2, name='cat_bits')\n",
    "    circ.add_register(anc_reg, bit_reg)\n",
    "    circ.barrier()\n",
    "    \n",
    "    # Logical Z measurements on each CAT state half\n",
    "    for i, anc_qb in enumerate(anc_reg):\n",
    "        circ.h(anc_qb)\n",
    "        for qubit in cat_regs[i]:\n",
    "            circ.cz(anc_qb, qubit)\n",
    "        circ.h(anc_qb)\n",
    "        circ.measure(anc_qb, bit_reg[i])\n",
    "    \n",
    "    logical_X = qiskit.QuantumCircuit(7, name='Steane X')\n",
    "    logical_X.x(range(7))\n",
    "    #print(logical_X.draw())\n",
    "    \n",
    "    # Cannot compare two CBits together (to see whether they're different), so just check separately whether the bit_reg is 01 = 0x1 or 10 = 0x2\n",
    "    circ.append(logical_X, code_B_reg).c_if(bit_reg, 1)\n",
    "    circ.append(logical_X, code_B_reg).c_if(bit_reg, 2)\n",
    "\n",
    "    return circ"
   ]
  },
  {
   "cell_type": "code",
   "execution_count": 191,
   "id": "8d59a7be-3fef-4243-9f0c-7e0d4cdfdef9",
   "metadata": {},
   "outputs": [
    {
     "data": {
      "text/html": [
       "<pre style=\"word-wrap: normal;white-space: pre;background: #fff0;line-height: 1.1;font-family: &quot;Courier New&quot;,Courier,monospace\">                 ┌───┐     ┌───┐          ┌───┐                                                                          ░                                                                                     \n",
       "  code_A_0: ─────┤ X ├─────┤ X ├──────────┤ X ├────────────────────────────────────────■─────────────────────────────────░─────────────────────────────────────────────────────────────────────────────────────\n",
       "                 └─┬─┘┌───┐└─┬─┘     ┌───┐└─┬─┘┌───┐                                   │                                 ░                                                                                     \n",
       "  code_A_1: ───────┼──┤ X ├──┼───────┤ X ├──┼──┤ X ├───────────────────────────────────┼────■────────────────────────────░─────────────────────────────────────────────────────────────────────────────────────\n",
       "            ┌───┐  │  └─┬─┘  │       └─┬─┘  │  └─┬─┘                                   │    │                            ░                                                                                     \n",
       "  code_A_2: ┤ H ├──■────┼────┼─────────┼────┼────■─────────────────────────────────────┼────┼────■───────────────────────░─────────────────────────────────────────────────────────────────────────────────────\n",
       "            └───┘┌───┐  │    │  ┌───┐  │    │  ┌───┐                                   │    │    │                       ░                                                                                     \n",
       "  code_A_3: ─────┤ X ├──┼────┼──┤ X ├──┼────┼──┤ X ├───────────────────────────────────┼────┼────┼────■──────────────────░─────────────────────────────────────────────────────────────────────────────────────\n",
       "            ┌───┐└─┬─┘  │    │  └─┬─┘  │    │  └─┬─┘                                   │    │    │    │                  ░                                                                                     \n",
       "  code_A_4: ┤ H ├──┼────┼────■────┼────┼────┼────■─────────────────────────────────────┼────┼────┼────┼────■─────────────░─────────────────────────────────────────────────────────────────────────────────────\n",
       "            ├───┤  │    │         │    │    │                                          │    │    │    │    │             ░                                                                                     \n",
       "  code_A_5: ┤ H ├──■────┼─────────┼────■────┼──────────────────────────────────────────┼────┼────┼────┼────┼────■────────░─────────────────────────────────────────────────────────────────────────────────────\n",
       "            ├───┤       │         │         │                                          │    │    │    │    │    │        ░                                                                                     \n",
       "  code_A_6: ┤ H ├───────■─────────■─────────■──────────────────────────────────────────┼────┼────┼────┼────┼────┼────■───░─────────────────────────────────────────────────────────────────────────────────────\n",
       "            ├───┤                                                                  ░ ┌─┴─┐  │    │    │    │    │    │   ░                                                                                     \n",
       "   cat_A_0: ┤ H ├──■───────────────────────────────────────────────────────────────░─┤ X ├──┼────┼────┼────┼────┼────┼───░───────■─────────────────────────────────────────────────────────────────────────────\n",
       "            └───┘┌─┴─┐                                                             ░ └───┘┌─┴─┐  │    │    │    │    │   ░       │                                                                             \n",
       "   cat_A_1: ─────┤ X ├──■──────────────────────────────────────────────────────────░──────┤ X ├──┼────┼────┼────┼────┼───░───────┼─────■───────────────────────────────────────────────────────────────────────\n",
       "                 └───┘┌─┴─┐                                                        ░      └───┘┌─┴─┐  │    │    │    │   ░       │     │                                                                       \n",
       "   cat_A_2: ──────────┤ X ├──■─────────────────────────────────────────────────────░───────────┤ X ├──┼────┼────┼────┼───░───────┼─────┼─────■─────────────────────────────────────────────────────────────────\n",
       "                      └───┘┌─┴─┐                                                   ░           └───┘┌─┴─┐  │    │    │   ░       │     │     │                                                                 \n",
       "   cat_A_3: ───────────────┤ X ├──■────────────────────────────────────────────────░────────────────┤ X ├──┼────┼────┼───░───────┼─────┼─────┼─────■───────────────────────────────────────────────────────────\n",
       "                           └───┘┌─┴─┐                                              ░                └───┘┌─┴─┐  │    │   ░       │     │     │     │                                                           \n",
       "   cat_A_4: ────────────────────┤ X ├──■───────────────────────────────────────────░─────────────────────┤ X ├──┼────┼───░───────┼─────┼─────┼─────┼─────■─────────────────────────────────────────────────────\n",
       "                                └───┘┌─┴─┐                                         ░                     └───┘┌─┴─┐  │   ░       │     │     │     │     │                                                     \n",
       "   cat_A_5: ─────────────────────────┤ X ├──■──────────────────────────────────────░──────────────────────────┤ X ├──┼───░───────┼─────┼─────┼─────┼─────┼─────■───────────────────────────────────────────────\n",
       "                                     └───┘┌─┴─┐                                    ░                          └───┘┌─┴─┐ ░       │     │     │     │     │     │                                               \n",
       "   cat_A_6: ──────────────────────────────┤ X ├──■─────────────────────────────────░───────────────────────────────┤ X ├─░───────┼─────┼─────┼─────┼─────┼─────┼─────■─────────────────────────────────────────\n",
       "                                          └───┘┌─┴─┐                               ░ ┌───┐                         └───┘ ░       │     │     │     │     │     │     │                                         \n",
       "   cat_B_0: ───────────────────────────────────┤ X ├──■────────────────────────────░─┤ X ├───────────────────────────────░───────┼──■──┼─────┼─────┼─────┼─────┼─────┼─────────────────────────────────────────\n",
       "                                               └───┘┌─┴─┐                          ░ └─┬─┘┌───┐                          ░       │  │  │     │     │     │     │     │                                         \n",
       "   cat_B_1: ────────────────────────────────────────┤ X ├──■───────────────────────░───┼──┤ X ├──────────────────────────░───────┼──┼──┼──■──┼─────┼─────┼─────┼─────┼─────────────────────────────────────────\n",
       "                                                    └───┘┌─┴─┐                     ░   │  └─┬─┘┌───┐                     ░       │  │  │  │  │     │     │     │     │                                         \n",
       "   cat_B_2: ─────────────────────────────────────────────┤ X ├──■──────────────────░───┼────┼──┤ X ├─────────────────────░───────┼──┼──┼──┼──┼──■──┼─────┼─────┼─────┼─────────────────────────────────────────\n",
       "                                                         └───┘┌─┴─┐                ░   │    │  └─┬─┘┌───┐                ░       │  │  │  │  │  │  │     │     │     │                                         \n",
       "   cat_B_3: ──────────────────────────────────────────────────┤ X ├──■─────────────░───┼────┼────┼──┤ X ├────────────────░───────┼──┼──┼──┼──┼──┼──┼──■──┼─────┼─────┼─────────────────────────────────────────\n",
       "                                                              └───┘┌─┴─┐           ░   │    │    │  └─┬─┘┌───┐           ░       │  │  │  │  │  │  │  │  │     │     │                                         \n",
       "   cat_B_4: ───────────────────────────────────────────────────────┤ X ├──■────────░───┼────┼────┼────┼──┤ X ├───────────░───────┼──┼──┼──┼──┼──┼──┼──┼──┼──■──┼─────┼─────────────────────────────────────────\n",
       "                                                                   └───┘┌─┴─┐      ░   │    │    │    │  └─┬─┘┌───┐      ░       │  │  │  │  │  │  │  │  │  │  │     │                                         \n",
       "   cat_B_5: ────────────────────────────────────────────────────────────┤ X ├──■───░───┼────┼────┼────┼────┼──┤ X ├──────░───────┼──┼──┼──┼──┼──┼──┼──┼──┼──┼──┼──■──┼─────────────────────────────────────────\n",
       "                                                                        └───┘┌─┴─┐ ░   │    │    │    │    │  └─┬─┘┌───┐ ░       │  │  │  │  │  │  │  │  │  │  │  │  │                                         \n",
       "   cat_B_6: ─────────────────────────────────────────────────────────────────┤ X ├─░───┼────┼────┼────┼────┼────┼──┤ X ├─░───────┼──┼──┼──┼──┼──┼──┼──┼──┼──┼──┼──┼──┼──■──────────────────────────────────────\n",
       "                 ┌───┐     ┌───┐          ┌───┐                              └───┘ ░   │    │    │    │    │    │  └─┬─┘ ░       │  │  │  │  │  │  │  │  │  │  │  │  │  │            ┌───────────┐┌───────────┐\n",
       "  code_B_0: ─────┤ X ├─────┤ X ├──────────┤ X ├────────────────────────────────────────■────┼────┼────┼────┼────┼────┼───░───────┼──┼──┼──┼──┼──┼──┼──┼──┼──┼──┼──┼──┼──┼────────────┤0          ├┤0          ├\n",
       "                 └─┬─┘┌───┐└─┬─┘     ┌───┐└─┬─┘┌───┐                                        │    │    │    │    │    │   ░       │  │  │  │  │  │  │  │  │  │  │  │  │  │            │           ││           │\n",
       "  code_B_1: ───────┼──┤ X ├──┼───────┤ X ├──┼──┤ X ├────────────────────────────────────────■────┼────┼────┼────┼────┼───░───────┼──┼──┼──┼──┼──┼──┼──┼──┼──┼──┼──┼──┼──┼────────────┤1          ├┤1          ├\n",
       "            ┌───┐  │  └─┬─┘  │       └─┬─┘  │  └─┬─┘                                             │    │    │    │    │   ░       │  │  │  │  │  │  │  │  │  │  │  │  │  │            │           ││           │\n",
       "  code_B_2: ┤ H ├──■────┼────┼─────────┼────┼────■───────────────────────────────────────────────■────┼────┼────┼────┼───░───────┼──┼──┼──┼──┼──┼──┼──┼──┼──┼──┼──┼──┼──┼────────────┤2          ├┤2          ├\n",
       "            └───┘┌───┐  │    │  ┌───┐  │    │  ┌───┐                                                  │    │    │    │   ░       │  │  │  │  │  │  │  │  │  │  │  │  │  │            │           ││           │\n",
       "  code_B_3: ─────┤ X ├──┼────┼──┤ X ├──┼────┼──┤ X ├──────────────────────────────────────────────────■────┼────┼────┼───░───────┼──┼──┼──┼──┼──┼──┼──┼──┼──┼──┼──┼──┼──┼────────────┤3 Steane X ├┤3 Steane X ├\n",
       "            ┌───┐└─┬─┘  │    │  └─┬─┘  │    │  └─┬─┘                                                       │    │    │   ░       │  │  │  │  │  │  │  │  │  │  │  │  │  │            │           ││           │\n",
       "  code_B_4: ┤ H ├──┼────┼────■────┼────┼────┼────■─────────────────────────────────────────────────────────■────┼────┼───░───────┼──┼──┼──┼──┼──┼──┼──┼──┼──┼──┼──┼──┼──┼────────────┤4          ├┤4          ├\n",
       "            ├───┤  │    │         │    │    │                                                                   │    │   ░       │  │  │  │  │  │  │  │  │  │  │  │  │  │            │           ││           │\n",
       "  code_B_5: ┤ H ├──■────┼─────────┼────■────┼───────────────────────────────────────────────────────────────────■────┼───░───────┼──┼──┼──┼──┼──┼──┼──┼──┼──┼──┼──┼──┼──┼────────────┤5          ├┤5          ├\n",
       "            ├───┤       │         │         │                                                                        │   ░       │  │  │  │  │  │  │  │  │  │  │  │  │  │            │           ││           │\n",
       "  code_B_6: ┤ H ├───────■─────────■─────────■────────────────────────────────────────────────────────────────────────■───░───────┼──┼──┼──┼──┼──┼──┼──┼──┼──┼──┼──┼──┼──┼────────────┤6          ├┤6          ├\n",
       "            └───┘                                                                                                        ░ ┌───┐ │  │  │  │  │  │  │  │  │  │  │  │  │  │ ┌───┐┌─┐   └─────╥─────┘└─────╥─────┘\n",
       " ancilla_0: ─────────────────────────────────────────────────────────────────────────────────────────────────────────────░─┤ H ├─■──┼──■──┼──■──┼──■──┼──■──┼──■──┼──■──┼─┤ H ├┤M├─────────╫────────────╫──────\n",
       "                                                                                                                         ░ ├───┤    │     │     │     │     │     │     │ ├───┤└╥┘┌─┐      ║            ║      \n",
       " ancilla_1: ─────────────────────────────────────────────────────────────────────────────────────────────────────────────░─┤ H ├────■─────■─────■─────■─────■─────■─────■─┤ H ├─╫─┤M├──────╫────────────╫──────\n",
       "                                                                                                                         ░ └───┘                                          └───┘ ║ └╥┘   ┌──╨──┐      ┌──╨──┐   \n",
       "cat_bits: 2/════════════════════════════════════════════════════════════════════════════════════════════════════════════════════════════════════════════════════════════════════╩══╩════╡ 0x1 ╞══════╡ 0x2 ╞═══\n",
       "                                                                                                                                                                                0  1    └─────┘      └─────┘   </pre>"
      ],
      "text/plain": [
       "                 ┌───┐     ┌───┐          ┌───┐                                                                          ░                                                                                     \n",
       "  code_A_0: ─────┤ X ├─────┤ X ├──────────┤ X ├────────────────────────────────────────■─────────────────────────────────░─────────────────────────────────────────────────────────────────────────────────────\n",
       "                 └─┬─┘┌───┐└─┬─┘     ┌───┐└─┬─┘┌───┐                                   │                                 ░                                                                                     \n",
       "  code_A_1: ───────┼──┤ X ├──┼───────┤ X ├──┼──┤ X ├───────────────────────────────────┼────■────────────────────────────░─────────────────────────────────────────────────────────────────────────────────────\n",
       "            ┌───┐  │  └─┬─┘  │       └─┬─┘  │  └─┬─┘                                   │    │                            ░                                                                                     \n",
       "  code_A_2: ┤ H ├──■────┼────┼─────────┼────┼────■─────────────────────────────────────┼────┼────■───────────────────────░─────────────────────────────────────────────────────────────────────────────────────\n",
       "            └───┘┌───┐  │    │  ┌───┐  │    │  ┌───┐                                   │    │    │                       ░                                                                                     \n",
       "  code_A_3: ─────┤ X ├──┼────┼──┤ X ├──┼────┼──┤ X ├───────────────────────────────────┼────┼────┼────■──────────────────░─────────────────────────────────────────────────────────────────────────────────────\n",
       "            ┌───┐└─┬─┘  │    │  └─┬─┘  │    │  └─┬─┘                                   │    │    │    │                  ░                                                                                     \n",
       "  code_A_4: ┤ H ├──┼────┼────■────┼────┼────┼────■─────────────────────────────────────┼────┼────┼────┼────■─────────────░─────────────────────────────────────────────────────────────────────────────────────\n",
       "            ├───┤  │    │         │    │    │                                          │    │    │    │    │             ░                                                                                     \n",
       "  code_A_5: ┤ H ├──■────┼─────────┼────■────┼──────────────────────────────────────────┼────┼────┼────┼────┼────■────────░─────────────────────────────────────────────────────────────────────────────────────\n",
       "            ├───┤       │         │         │                                          │    │    │    │    │    │        ░                                                                                     \n",
       "  code_A_6: ┤ H ├───────■─────────■─────────■──────────────────────────────────────────┼────┼────┼────┼────┼────┼────■───░─────────────────────────────────────────────────────────────────────────────────────\n",
       "            ├───┤                                                                  ░ ┌─┴─┐  │    │    │    │    │    │   ░                                                                                     \n",
       "   cat_A_0: ┤ H ├──■───────────────────────────────────────────────────────────────░─┤ X ├──┼────┼────┼────┼────┼────┼───░───────■─────────────────────────────────────────────────────────────────────────────\n",
       "            └───┘┌─┴─┐                                                             ░ └───┘┌─┴─┐  │    │    │    │    │   ░       │                                                                             \n",
       "   cat_A_1: ─────┤ X ├──■──────────────────────────────────────────────────────────░──────┤ X ├──┼────┼────┼────┼────┼───░───────┼─────■───────────────────────────────────────────────────────────────────────\n",
       "                 └───┘┌─┴─┐                                                        ░      └───┘┌─┴─┐  │    │    │    │   ░       │     │                                                                       \n",
       "   cat_A_2: ──────────┤ X ├──■─────────────────────────────────────────────────────░───────────┤ X ├──┼────┼────┼────┼───░───────┼─────┼─────■─────────────────────────────────────────────────────────────────\n",
       "                      └───┘┌─┴─┐                                                   ░           └───┘┌─┴─┐  │    │    │   ░       │     │     │                                                                 \n",
       "   cat_A_3: ───────────────┤ X ├──■────────────────────────────────────────────────░────────────────┤ X ├──┼────┼────┼───░───────┼─────┼─────┼─────■───────────────────────────────────────────────────────────\n",
       "                           └───┘┌─┴─┐                                              ░                └───┘┌─┴─┐  │    │   ░       │     │     │     │                                                           \n",
       "   cat_A_4: ────────────────────┤ X ├──■───────────────────────────────────────────░─────────────────────┤ X ├──┼────┼───░───────┼─────┼─────┼─────┼─────■─────────────────────────────────────────────────────\n",
       "                                └───┘┌─┴─┐                                         ░                     └───┘┌─┴─┐  │   ░       │     │     │     │     │                                                     \n",
       "   cat_A_5: ─────────────────────────┤ X ├──■──────────────────────────────────────░──────────────────────────┤ X ├──┼───░───────┼─────┼─────┼─────┼─────┼─────■───────────────────────────────────────────────\n",
       "                                     └───┘┌─┴─┐                                    ░                          └───┘┌─┴─┐ ░       │     │     │     │     │     │                                               \n",
       "   cat_A_6: ──────────────────────────────┤ X ├──■─────────────────────────────────░───────────────────────────────┤ X ├─░───────┼─────┼─────┼─────┼─────┼─────┼─────■─────────────────────────────────────────\n",
       "                                          └───┘┌─┴─┐                               ░ ┌───┐                         └───┘ ░       │     │     │     │     │     │     │                                         \n",
       "   cat_B_0: ───────────────────────────────────┤ X ├──■────────────────────────────░─┤ X ├───────────────────────────────░───────┼──■──┼─────┼─────┼─────┼─────┼─────┼─────────────────────────────────────────\n",
       "                                               └───┘┌─┴─┐                          ░ └─┬─┘┌───┐                          ░       │  │  │     │     │     │     │     │                                         \n",
       "   cat_B_1: ────────────────────────────────────────┤ X ├──■───────────────────────░───┼──┤ X ├──────────────────────────░───────┼──┼──┼──■──┼─────┼─────┼─────┼─────┼─────────────────────────────────────────\n",
       "                                                    └───┘┌─┴─┐                     ░   │  └─┬─┘┌───┐                     ░       │  │  │  │  │     │     │     │     │                                         \n",
       "   cat_B_2: ─────────────────────────────────────────────┤ X ├──■──────────────────░───┼────┼──┤ X ├─────────────────────░───────┼──┼──┼──┼──┼──■──┼─────┼─────┼─────┼─────────────────────────────────────────\n",
       "                                                         └───┘┌─┴─┐                ░   │    │  └─┬─┘┌───┐                ░       │  │  │  │  │  │  │     │     │     │                                         \n",
       "   cat_B_3: ──────────────────────────────────────────────────┤ X ├──■─────────────░───┼────┼────┼──┤ X ├────────────────░───────┼──┼──┼──┼──┼──┼──┼──■──┼─────┼─────┼─────────────────────────────────────────\n",
       "                                                              └───┘┌─┴─┐           ░   │    │    │  └─┬─┘┌───┐           ░       │  │  │  │  │  │  │  │  │     │     │                                         \n",
       "   cat_B_4: ───────────────────────────────────────────────────────┤ X ├──■────────░───┼────┼────┼────┼──┤ X ├───────────░───────┼──┼──┼──┼──┼──┼──┼──┼──┼──■──┼─────┼─────────────────────────────────────────\n",
       "                                                                   └───┘┌─┴─┐      ░   │    │    │    │  └─┬─┘┌───┐      ░       │  │  │  │  │  │  │  │  │  │  │     │                                         \n",
       "   cat_B_5: ────────────────────────────────────────────────────────────┤ X ├──■───░───┼────┼────┼────┼────┼──┤ X ├──────░───────┼──┼──┼──┼──┼──┼──┼──┼──┼──┼──┼──■──┼─────────────────────────────────────────\n",
       "                                                                        └───┘┌─┴─┐ ░   │    │    │    │    │  └─┬─┘┌───┐ ░       │  │  │  │  │  │  │  │  │  │  │  │  │                                         \n",
       "   cat_B_6: ─────────────────────────────────────────────────────────────────┤ X ├─░───┼────┼────┼────┼────┼────┼──┤ X ├─░───────┼──┼──┼──┼──┼──┼──┼──┼──┼──┼──┼──┼──┼──■──────────────────────────────────────\n",
       "                 ┌───┐     ┌───┐          ┌───┐                              └───┘ ░   │    │    │    │    │    │  └─┬─┘ ░       │  │  │  │  │  │  │  │  │  │  │  │  │  │            ┌───────────┐┌───────────┐\n",
       "  code_B_0: ─────┤ X ├─────┤ X ├──────────┤ X ├────────────────────────────────────────■────┼────┼────┼────┼────┼────┼───░───────┼──┼──┼──┼──┼──┼──┼──┼──┼──┼──┼──┼──┼──┼────────────┤0          ├┤0          ├\n",
       "                 └─┬─┘┌───┐└─┬─┘     ┌───┐└─┬─┘┌───┐                                        │    │    │    │    │    │   ░       │  │  │  │  │  │  │  │  │  │  │  │  │  │            │           ││           │\n",
       "  code_B_1: ───────┼──┤ X ├──┼───────┤ X ├──┼──┤ X ├────────────────────────────────────────■────┼────┼────┼────┼────┼───░───────┼──┼──┼──┼──┼──┼──┼──┼──┼──┼──┼──┼──┼──┼────────────┤1          ├┤1          ├\n",
       "            ┌───┐  │  └─┬─┘  │       └─┬─┘  │  └─┬─┘                                             │    │    │    │    │   ░       │  │  │  │  │  │  │  │  │  │  │  │  │  │            │           ││           │\n",
       "  code_B_2: ┤ H ├──■────┼────┼─────────┼────┼────■───────────────────────────────────────────────■────┼────┼────┼────┼───░───────┼──┼──┼──┼──┼──┼──┼──┼──┼──┼──┼──┼──┼──┼────────────┤2          ├┤2          ├\n",
       "            └───┘┌───┐  │    │  ┌───┐  │    │  ┌───┐                                                  │    │    │    │   ░       │  │  │  │  │  │  │  │  │  │  │  │  │  │            │           ││           │\n",
       "  code_B_3: ─────┤ X ├──┼────┼──┤ X ├──┼────┼──┤ X ├──────────────────────────────────────────────────■────┼────┼────┼───░───────┼──┼──┼──┼──┼──┼──┼──┼──┼──┼──┼──┼──┼──┼────────────┤3 Steane X ├┤3 Steane X ├\n",
       "            ┌───┐└─┬─┘  │    │  └─┬─┘  │    │  └─┬─┘                                                       │    │    │   ░       │  │  │  │  │  │  │  │  │  │  │  │  │  │            │           ││           │\n",
       "  code_B_4: ┤ H ├──┼────┼────■────┼────┼────┼────■─────────────────────────────────────────────────────────■────┼────┼───░───────┼──┼──┼──┼──┼──┼──┼──┼──┼──┼──┼──┼──┼──┼────────────┤4          ├┤4          ├\n",
       "            ├───┤  │    │         │    │    │                                                                   │    │   ░       │  │  │  │  │  │  │  │  │  │  │  │  │  │            │           ││           │\n",
       "  code_B_5: ┤ H ├──■────┼─────────┼────■────┼───────────────────────────────────────────────────────────────────■────┼───░───────┼──┼──┼──┼──┼──┼──┼──┼──┼──┼──┼──┼──┼──┼────────────┤5          ├┤5          ├\n",
       "            ├───┤       │         │         │                                                                        │   ░       │  │  │  │  │  │  │  │  │  │  │  │  │  │            │           ││           │\n",
       "  code_B_6: ┤ H ├───────■─────────■─────────■────────────────────────────────────────────────────────────────────────■───░───────┼──┼──┼──┼──┼──┼──┼──┼──┼──┼──┼──┼──┼──┼────────────┤6          ├┤6          ├\n",
       "            └───┘                                                                                                        ░ ┌───┐ │  │  │  │  │  │  │  │  │  │  │  │  │  │ ┌───┐┌─┐   └─────╥─────┘└─────╥─────┘\n",
       " ancilla_0: ─────────────────────────────────────────────────────────────────────────────────────────────────────────────░─┤ H ├─■──┼──■──┼──■──┼──■──┼──■──┼──■──┼──■──┼─┤ H ├┤M├─────────╫────────────╫──────\n",
       "                                                                                                                         ░ ├───┤    │     │     │     │     │     │     │ ├───┤└╥┘┌─┐      ║            ║      \n",
       " ancilla_1: ─────────────────────────────────────────────────────────────────────────────────────────────────────────────░─┤ H ├────■─────■─────■─────■─────■─────■─────■─┤ H ├─╫─┤M├──────╫────────────╫──────\n",
       "                                                                                                                         ░ └───┘                                          └───┘ ║ └╥┘   ┌──╨──┐      ┌──╨──┐   \n",
       "cat_bits: 2/════════════════════════════════════════════════════════════════════════════════════════════════════════════════════════════════════════════════════════════════════╩══╩════╡ 0x1 ╞══════╡ 0x2 ╞═══\n",
       "                                                                                                                                                                                0  1    └─────┘      └─────┘   "
      ]
     },
     "execution_count": 191,
     "metadata": {},
     "output_type": "execute_result"
    }
   ],
   "source": [
    "circ = ct_module()\n",
    "circ.draw(fold=-1)"
   ]
  },
  {
   "cell_type": "markdown",
   "id": "54695b7b-0a41-4067-8028-8ddbc56c626b",
   "metadata": {},
   "source": [
    "## Full CT module simulation\n",
    "The output of the CT module should be the (logical) state $|\\phi_{AB}\\rangle = \\frac{1}{\\sqrt{2}}(|0_A0_B\\rangle + |1_A1_B\\rangle)$"
   ]
  },
  {
   "cell_type": "code",
   "execution_count": 192,
   "id": "59cfb3c4-758b-4039-ba43-ad65bff92c52",
   "metadata": {},
   "outputs": [],
   "source": [
    "mps_simulator = qiskit.Aer.get_backend('aer_simulator_matrix_product_state')"
   ]
  },
  {
   "cell_type": "code",
   "execution_count": 193,
   "id": "9e38813a-a4b4-4858-9530-f6a893bbd83d",
   "metadata": {},
   "outputs": [
    {
     "data": {
      "text/html": [
       "<pre style=\"word-wrap: normal;white-space: pre;background: #fff0;line-height: 1.1;font-family: &quot;Courier New&quot;,Courier,monospace\">                 ┌───┐     ┌───┐          ┌───┐                                                                          ░                                                                                      ░                                                                \n",
       "  code_A_0: ─────┤ X ├─────┤ X ├──────────┤ X ├────────────────────────────────────────■─────────────────────────────────░──────────────────────────────────────────────────────────────────────────────────────░────────────■───────────────────────────────────────────────────\n",
       "                 └─┬─┘┌───┐└─┬─┘     ┌───┐└─┬─┘┌───┐                                   │                                 ░                                                                                      ░            │                                                   \n",
       "  code_A_1: ───────┼──┤ X ├──┼───────┤ X ├──┼──┤ X ├───────────────────────────────────┼────■────────────────────────────░──────────────────────────────────────────────────────────────────────────────────────░────────────┼─────■─────────────────────────────────────────────\n",
       "            ┌───┐  │  └─┬─┘  │       └─┬─┘  │  └─┬─┘                                   │    │                            ░                                                                                      ░            │     │                                             \n",
       "  code_A_2: ┤ H ├──■────┼────┼─────────┼────┼────■─────────────────────────────────────┼────┼────■───────────────────────░──────────────────────────────────────────────────────────────────────────────────────░────────────┼─────┼─────■───────────────────────────────────────\n",
       "            └───┘┌───┐  │    │  ┌───┐  │    │  ┌───┐                                   │    │    │                       ░                                                                                      ░            │     │     │                                       \n",
       "  code_A_3: ─────┤ X ├──┼────┼──┤ X ├──┼────┼──┤ X ├───────────────────────────────────┼────┼────┼────■──────────────────░──────────────────────────────────────────────────────────────────────────────────────░────────────┼─────┼─────┼─────■─────────────────────────────────\n",
       "            ┌───┐└─┬─┘  │    │  └─┬─┘  │    │  └─┬─┘                                   │    │    │    │                  ░                                                                                      ░            │     │     │     │                                 \n",
       "  code_A_4: ┤ H ├──┼────┼────■────┼────┼────┼────■─────────────────────────────────────┼────┼────┼────┼────■─────────────░──────────────────────────────────────────────────────────────────────────────────────░────────────┼─────┼─────┼─────┼─────■───────────────────────────\n",
       "            ├───┤  │    │         │    │    │                                          │    │    │    │    │             ░                                                                                      ░            │     │     │     │     │                           \n",
       "  code_A_5: ┤ H ├──■────┼─────────┼────■────┼──────────────────────────────────────────┼────┼────┼────┼────┼────■────────░──────────────────────────────────────────────────────────────────────────────────────░────────────┼─────┼─────┼─────┼─────┼─────■─────────────────────\n",
       "            ├───┤       │         │         │                                          │    │    │    │    │    │        ░                                                                                      ░            │     │     │     │     │     │                     \n",
       "  code_A_6: ┤ H ├───────■─────────■─────────■──────────────────────────────────────────┼────┼────┼────┼────┼────┼────■───░──────────────────────────────────────────────────────────────────────────────────────░────────────┼─────┼─────┼─────┼─────┼─────┼─────■───────────────\n",
       "            ├───┤                                                                  ░ ┌─┴─┐  │    │    │    │    │    │   ░                                                                                      ░            │     │     │     │     │     │     │               \n",
       "   cat_A_0: ┤ H ├──■───────────────────────────────────────────────────────────────░─┤ X ├──┼────┼────┼────┼────┼────┼───░───────■──────────────────────────────────────────────────────────────────────────────░────────────┼─────┼─────┼─────┼─────┼─────┼─────┼───────────────\n",
       "            └───┘┌─┴─┐                                                             ░ └───┘┌─┴─┐  │    │    │    │    │   ░       │                                                                              ░            │     │     │     │     │     │     │               \n",
       "   cat_A_1: ─────┤ X ├──■──────────────────────────────────────────────────────────░──────┤ X ├──┼────┼────┼────┼────┼───░───────┼─────■────────────────────────────────────────────────────────────────────────░────────────┼─────┼─────┼─────┼─────┼─────┼─────┼───────────────\n",
       "                 └───┘┌─┴─┐                                                        ░      └───┘┌─┴─┐  │    │    │    │   ░       │     │                                                                        ░            │     │     │     │     │     │     │               \n",
       "   cat_A_2: ──────────┤ X ├──■─────────────────────────────────────────────────────░───────────┤ X ├──┼────┼────┼────┼───░───────┼─────┼─────■──────────────────────────────────────────────────────────────────░────────────┼─────┼─────┼─────┼─────┼─────┼─────┼───────────────\n",
       "                      └───┘┌─┴─┐                                                   ░           └───┘┌─┴─┐  │    │    │   ░       │     │     │                                                                  ░            │     │     │     │     │     │     │               \n",
       "   cat_A_3: ───────────────┤ X ├──■────────────────────────────────────────────────░────────────────┤ X ├──┼────┼────┼───░───────┼─────┼─────┼─────■────────────────────────────────────────────────────────────░────────────┼─────┼─────┼─────┼─────┼─────┼─────┼───────────────\n",
       "                           └───┘┌─┴─┐                                              ░                └───┘┌─┴─┐  │    │   ░       │     │     │     │                                                            ░            │     │     │     │     │     │     │               \n",
       "   cat_A_4: ────────────────────┤ X ├──■───────────────────────────────────────────░─────────────────────┤ X ├──┼────┼───░───────┼─────┼─────┼─────┼─────■──────────────────────────────────────────────────────░────────────┼─────┼─────┼─────┼─────┼─────┼─────┼───────────────\n",
       "                                └───┘┌─┴─┐                                         ░                     └───┘┌─┴─┐  │   ░       │     │     │     │     │                                                      ░            │     │     │     │     │     │     │               \n",
       "   cat_A_5: ─────────────────────────┤ X ├──■──────────────────────────────────────░──────────────────────────┤ X ├──┼───░───────┼─────┼─────┼─────┼─────┼─────■────────────────────────────────────────────────░────────────┼─────┼─────┼─────┼─────┼─────┼─────┼───────────────\n",
       "                                     └───┘┌─┴─┐                                    ░                          └───┘┌─┴─┐ ░       │     │     │     │     │     │                                                ░            │     │     │     │     │     │     │               \n",
       "   cat_A_6: ──────────────────────────────┤ X ├──■─────────────────────────────────░───────────────────────────────┤ X ├─░───────┼─────┼─────┼─────┼─────┼─────┼─────■──────────────────────────────────────────░────────────┼─────┼─────┼─────┼─────┼─────┼─────┼───────────────\n",
       "                                          └───┘┌─┴─┐                               ░ ┌───┐                         └───┘ ░       │     │     │     │     │     │     │                                          ░            │     │     │     │     │     │     │               \n",
       "   cat_B_0: ───────────────────────────────────┤ X ├──■────────────────────────────░─┤ X ├───────────────────────────────░───────┼──■──┼─────┼─────┼─────┼─────┼─────┼──────────────────────────────────────────░────────────┼─────┼─────┼─────┼─────┼─────┼─────┼───────────────\n",
       "                                               └───┘┌─┴─┐                          ░ └─┬─┘┌───┐                          ░       │  │  │     │     │     │     │     │                                          ░            │     │     │     │     │     │     │               \n",
       "   cat_B_1: ────────────────────────────────────────┤ X ├──■───────────────────────░───┼──┤ X ├──────────────────────────░───────┼──┼──┼──■──┼─────┼─────┼─────┼─────┼──────────────────────────────────────────░────────────┼─────┼─────┼─────┼─────┼─────┼─────┼───────────────\n",
       "                                                    └───┘┌─┴─┐                     ░   │  └─┬─┘┌───┐                     ░       │  │  │  │  │     │     │     │     │                                          ░            │     │     │     │     │     │     │               \n",
       "   cat_B_2: ─────────────────────────────────────────────┤ X ├──■──────────────────░───┼────┼──┤ X ├─────────────────────░───────┼──┼──┼──┼──┼──■──┼─────┼─────┼─────┼──────────────────────────────────────────░────────────┼─────┼─────┼─────┼─────┼─────┼─────┼───────────────\n",
       "                                                         └───┘┌─┴─┐                ░   │    │  └─┬─┘┌───┐                ░       │  │  │  │  │  │  │     │     │     │                                          ░            │     │     │     │     │     │     │               \n",
       "   cat_B_3: ──────────────────────────────────────────────────┤ X ├──■─────────────░───┼────┼────┼──┤ X ├────────────────░───────┼──┼──┼──┼──┼──┼──┼──■──┼─────┼─────┼──────────────────────────────────────────░────────────┼─────┼─────┼─────┼─────┼─────┼─────┼───────────────\n",
       "                                                              └───┘┌─┴─┐           ░   │    │    │  └─┬─┘┌───┐           ░       │  │  │  │  │  │  │  │  │     │     │                                          ░            │     │     │     │     │     │     │               \n",
       "   cat_B_4: ───────────────────────────────────────────────────────┤ X ├──■────────░───┼────┼────┼────┼──┤ X ├───────────░───────┼──┼──┼──┼──┼──┼──┼──┼──┼──■──┼─────┼──────────────────────────────────────────░────────────┼─────┼─────┼─────┼─────┼─────┼─────┼───────────────\n",
       "                                                                   └───┘┌─┴─┐      ░   │    │    │    │  └─┬─┘┌───┐      ░       │  │  │  │  │  │  │  │  │  │  │     │                                          ░            │     │     │     │     │     │     │               \n",
       "   cat_B_5: ────────────────────────────────────────────────────────────┤ X ├──■───░───┼────┼────┼────┼────┼──┤ X ├──────░───────┼──┼──┼──┼──┼──┼──┼──┼──┼──┼──┼──■──┼──────────────────────────────────────────░────────────┼─────┼─────┼─────┼─────┼─────┼─────┼───────────────\n",
       "                                                                        └───┘┌─┴─┐ ░   │    │    │    │    │  └─┬─┘┌───┐ ░       │  │  │  │  │  │  │  │  │  │  │  │  │                                          ░            │     │     │     │     │     │     │               \n",
       "   cat_B_6: ─────────────────────────────────────────────────────────────────┤ X ├─░───┼────┼────┼────┼────┼────┼──┤ X ├─░───────┼──┼──┼──┼──┼──┼──┼──┼──┼──┼──┼──┼──┼──■───────────────────────────────────────░────────────┼─────┼─────┼─────┼─────┼─────┼─────┼───────────────\n",
       "                 ┌───┐     ┌───┐          ┌───┐                              └───┘ ░   │    │    │    │    │    │  └─┬─┘ ░       │  │  │  │  │  │  │  │  │  │  │  │  │  │            ┌───────────┐┌───────────┐ ░            │     │     │     │     │     │     │               \n",
       "  code_B_0: ─────┤ X ├─────┤ X ├──────────┤ X ├────────────────────────────────────────■────┼────┼────┼────┼────┼────┼───░───────┼──┼──┼──┼──┼──┼──┼──┼──┼──┼──┼──┼──┼──┼────────────┤0          ├┤0          ├─░────────────┼──■──┼─────┼─────┼─────┼─────┼─────┼───────────────\n",
       "                 └─┬─┘┌───┐└─┬─┘     ┌───┐└─┬─┘┌───┐                                        │    │    │    │    │    │   ░       │  │  │  │  │  │  │  │  │  │  │  │  │  │            │           ││           │ ░            │  │  │     │     │     │     │     │               \n",
       "  code_B_1: ───────┼──┤ X ├──┼───────┤ X ├──┼──┤ X ├────────────────────────────────────────■────┼────┼────┼────┼────┼───░───────┼──┼──┼──┼──┼──┼──┼──┼──┼──┼──┼──┼──┼──┼────────────┤1          ├┤1          ├─░────────────┼──┼──┼──■──┼─────┼─────┼─────┼─────┼───────────────\n",
       "            ┌───┐  │  └─┬─┘  │       └─┬─┘  │  └─┬─┘                                             │    │    │    │    │   ░       │  │  │  │  │  │  │  │  │  │  │  │  │  │            │           ││           │ ░            │  │  │  │  │     │     │     │     │               \n",
       "  code_B_2: ┤ H ├──■────┼────┼─────────┼────┼────■───────────────────────────────────────────────■────┼────┼────┼────┼───░───────┼──┼──┼──┼──┼──┼──┼──┼──┼──┼──┼──┼──┼──┼────────────┤2          ├┤2          ├─░────────────┼──┼──┼──┼──┼──■──┼─────┼─────┼─────┼───────────────\n",
       "            └───┘┌───┐  │    │  ┌───┐  │    │  ┌───┐                                                  │    │    │    │   ░       │  │  │  │  │  │  │  │  │  │  │  │  │  │            │           ││           │ ░            │  │  │  │  │  │  │     │     │     │               \n",
       "  code_B_3: ─────┤ X ├──┼────┼──┤ X ├──┼────┼──┤ X ├──────────────────────────────────────────────────■────┼────┼────┼───░───────┼──┼──┼──┼──┼──┼──┼──┼──┼──┼──┼──┼──┼──┼────────────┤3 Steane X ├┤3 Steane X ├─░────────────┼──┼──┼──┼──┼──┼──┼──■──┼─────┼─────┼───────────────\n",
       "            ┌───┐└─┬─┘  │    │  └─┬─┘  │    │  └─┬─┘                                                       │    │    │   ░       │  │  │  │  │  │  │  │  │  │  │  │  │  │            │           ││           │ ░            │  │  │  │  │  │  │  │  │     │     │               \n",
       "  code_B_4: ┤ H ├──┼────┼────■────┼────┼────┼────■─────────────────────────────────────────────────────────■────┼────┼───░───────┼──┼──┼──┼──┼──┼──┼──┼──┼──┼──┼──┼──┼──┼────────────┤4          ├┤4          ├─░────────────┼──┼──┼──┼──┼──┼──┼──┼──┼──■──┼─────┼───────────────\n",
       "            ├───┤  │    │         │    │    │                                                                   │    │   ░       │  │  │  │  │  │  │  │  │  │  │  │  │  │            │           ││           │ ░            │  │  │  │  │  │  │  │  │  │  │     │               \n",
       "  code_B_5: ┤ H ├──■────┼─────────┼────■────┼───────────────────────────────────────────────────────────────────■────┼───░───────┼──┼──┼──┼──┼──┼──┼──┼──┼──┼──┼──┼──┼──┼────────────┤5          ├┤5          ├─░────────────┼──┼──┼──┼──┼──┼──┼──┼──┼──┼──┼──■──┼───────────────\n",
       "            ├───┤       │         │         │                                                                        │   ░       │  │  │  │  │  │  │  │  │  │  │  │  │  │            │           ││           │ ░            │  │  │  │  │  │  │  │  │  │  │  │  │               \n",
       "  code_B_6: ┤ H ├───────■─────────■─────────■────────────────────────────────────────────────────────────────────────■───░───────┼──┼──┼──┼──┼──┼──┼──┼──┼──┼──┼──┼──┼──┼────────────┤6          ├┤6          ├─░────────────┼──┼──┼──┼──┼──┼──┼──┼──┼──┼──┼──┼──┼──■────────────\n",
       "            └───┘                                                                                                        ░ ┌───┐ │  │  │  │  │  │  │  │  │  │  │  │  │  │ ┌───┐┌─┐   └─────╥─────┘└─────╥─────┘ ░      ┌───┐ │  │  │  │  │  │  │  │  │  │  │  │  │  │ ┌───┐┌─┐   \n",
       " ancilla_0: ─────────────────────────────────────────────────────────────────────────────────────────────────────────────░─┤ H ├─■──┼──■──┼──■──┼──■──┼──■──┼──■──┼──■──┼─┤ H ├┤M├─────────╫────────────╫───────░──|0>─┤ H ├─■──┼──■──┼──■──┼──■──┼──■──┼──■──┼──■──┼─┤ H ├┤M├───\n",
       "                                                                                                                         ░ ├───┤    │     │     │     │     │     │     │ ├───┤└╥┘┌─┐      ║            ║       ░      ├───┤    │     │     │     │     │     │     │ ├───┤└╥┘┌─┐\n",
       " ancilla_1: ─────────────────────────────────────────────────────────────────────────────────────────────────────────────░─┤ H ├────■─────■─────■─────■─────■─────■─────■─┤ H ├─╫─┤M├──────╫────────────╫───────░──|0>─┤ H ├────■─────■─────■─────■─────■─────■─────■─┤ H ├─╫─┤M├\n",
       "                                                                                                                         ░ └───┘                                          └───┘ ║ └╥┘   ┌──╨──┐      ┌──╨──┐    ░      └───┘                                          └───┘ ║ └╥┘\n",
       "cat_bits: 2/════════════════════════════════════════════════════════════════════════════════════════════════════════════════════════════════════════════════════════════════════╩══╩════╡ 0x1 ╞══════╡ 0x2 ╞════════════════════════════════════════════════════════════════╬══╬═\n",
       "                                                                                                                                                                                0  1    └─────┘      └─────┘                                                                ║  ║ \n",
       "    creg: 2/════════════════════════════════════════════════════════════════════════════════════════════════════════════════════════════════════════════════════════════════════════════════════════════════════════════════════════════════════════════════════════════════╩══╩═\n",
       "                                                                                                                                                                                                                                                                            0  1 </pre>"
      ],
      "text/plain": [
       "                 ┌───┐     ┌───┐          ┌───┐                                                                          ░                                                                                      ░                                                                \n",
       "  code_A_0: ─────┤ X ├─────┤ X ├──────────┤ X ├────────────────────────────────────────■─────────────────────────────────░──────────────────────────────────────────────────────────────────────────────────────░────────────■───────────────────────────────────────────────────\n",
       "                 └─┬─┘┌───┐└─┬─┘     ┌───┐└─┬─┘┌───┐                                   │                                 ░                                                                                      ░            │                                                   \n",
       "  code_A_1: ───────┼──┤ X ├──┼───────┤ X ├──┼──┤ X ├───────────────────────────────────┼────■────────────────────────────░──────────────────────────────────────────────────────────────────────────────────────░────────────┼─────■─────────────────────────────────────────────\n",
       "            ┌───┐  │  └─┬─┘  │       └─┬─┘  │  └─┬─┘                                   │    │                            ░                                                                                      ░            │     │                                             \n",
       "  code_A_2: ┤ H ├──■────┼────┼─────────┼────┼────■─────────────────────────────────────┼────┼────■───────────────────────░──────────────────────────────────────────────────────────────────────────────────────░────────────┼─────┼─────■───────────────────────────────────────\n",
       "            └───┘┌───┐  │    │  ┌───┐  │    │  ┌───┐                                   │    │    │                       ░                                                                                      ░            │     │     │                                       \n",
       "  code_A_3: ─────┤ X ├──┼────┼──┤ X ├──┼────┼──┤ X ├───────────────────────────────────┼────┼────┼────■──────────────────░──────────────────────────────────────────────────────────────────────────────────────░────────────┼─────┼─────┼─────■─────────────────────────────────\n",
       "            ┌───┐└─┬─┘  │    │  └─┬─┘  │    │  └─┬─┘                                   │    │    │    │                  ░                                                                                      ░            │     │     │     │                                 \n",
       "  code_A_4: ┤ H ├──┼────┼────■────┼────┼────┼────■─────────────────────────────────────┼────┼────┼────┼────■─────────────░──────────────────────────────────────────────────────────────────────────────────────░────────────┼─────┼─────┼─────┼─────■───────────────────────────\n",
       "            ├───┤  │    │         │    │    │                                          │    │    │    │    │             ░                                                                                      ░            │     │     │     │     │                           \n",
       "  code_A_5: ┤ H ├──■────┼─────────┼────■────┼──────────────────────────────────────────┼────┼────┼────┼────┼────■────────░──────────────────────────────────────────────────────────────────────────────────────░────────────┼─────┼─────┼─────┼─────┼─────■─────────────────────\n",
       "            ├───┤       │         │         │                                          │    │    │    │    │    │        ░                                                                                      ░            │     │     │     │     │     │                     \n",
       "  code_A_6: ┤ H ├───────■─────────■─────────■──────────────────────────────────────────┼────┼────┼────┼────┼────┼────■───░──────────────────────────────────────────────────────────────────────────────────────░────────────┼─────┼─────┼─────┼─────┼─────┼─────■───────────────\n",
       "            ├───┤                                                                  ░ ┌─┴─┐  │    │    │    │    │    │   ░                                                                                      ░            │     │     │     │     │     │     │               \n",
       "   cat_A_0: ┤ H ├──■───────────────────────────────────────────────────────────────░─┤ X ├──┼────┼────┼────┼────┼────┼───░───────■──────────────────────────────────────────────────────────────────────────────░────────────┼─────┼─────┼─────┼─────┼─────┼─────┼───────────────\n",
       "            └───┘┌─┴─┐                                                             ░ └───┘┌─┴─┐  │    │    │    │    │   ░       │                                                                              ░            │     │     │     │     │     │     │               \n",
       "   cat_A_1: ─────┤ X ├──■──────────────────────────────────────────────────────────░──────┤ X ├──┼────┼────┼────┼────┼───░───────┼─────■────────────────────────────────────────────────────────────────────────░────────────┼─────┼─────┼─────┼─────┼─────┼─────┼───────────────\n",
       "                 └───┘┌─┴─┐                                                        ░      └───┘┌─┴─┐  │    │    │    │   ░       │     │                                                                        ░            │     │     │     │     │     │     │               \n",
       "   cat_A_2: ──────────┤ X ├──■─────────────────────────────────────────────────────░───────────┤ X ├──┼────┼────┼────┼───░───────┼─────┼─────■──────────────────────────────────────────────────────────────────░────────────┼─────┼─────┼─────┼─────┼─────┼─────┼───────────────\n",
       "                      └───┘┌─┴─┐                                                   ░           └───┘┌─┴─┐  │    │    │   ░       │     │     │                                                                  ░            │     │     │     │     │     │     │               \n",
       "   cat_A_3: ───────────────┤ X ├──■────────────────────────────────────────────────░────────────────┤ X ├──┼────┼────┼───░───────┼─────┼─────┼─────■────────────────────────────────────────────────────────────░────────────┼─────┼─────┼─────┼─────┼─────┼─────┼───────────────\n",
       "                           └───┘┌─┴─┐                                              ░                └───┘┌─┴─┐  │    │   ░       │     │     │     │                                                            ░            │     │     │     │     │     │     │               \n",
       "   cat_A_4: ────────────────────┤ X ├──■───────────────────────────────────────────░─────────────────────┤ X ├──┼────┼───░───────┼─────┼─────┼─────┼─────■──────────────────────────────────────────────────────░────────────┼─────┼─────┼─────┼─────┼─────┼─────┼───────────────\n",
       "                                └───┘┌─┴─┐                                         ░                     └───┘┌─┴─┐  │   ░       │     │     │     │     │                                                      ░            │     │     │     │     │     │     │               \n",
       "   cat_A_5: ─────────────────────────┤ X ├──■──────────────────────────────────────░──────────────────────────┤ X ├──┼───░───────┼─────┼─────┼─────┼─────┼─────■────────────────────────────────────────────────░────────────┼─────┼─────┼─────┼─────┼─────┼─────┼───────────────\n",
       "                                     └───┘┌─┴─┐                                    ░                          └───┘┌─┴─┐ ░       │     │     │     │     │     │                                                ░            │     │     │     │     │     │     │               \n",
       "   cat_A_6: ──────────────────────────────┤ X ├──■─────────────────────────────────░───────────────────────────────┤ X ├─░───────┼─────┼─────┼─────┼─────┼─────┼─────■──────────────────────────────────────────░────────────┼─────┼─────┼─────┼─────┼─────┼─────┼───────────────\n",
       "                                          └───┘┌─┴─┐                               ░ ┌───┐                         └───┘ ░       │     │     │     │     │     │     │                                          ░            │     │     │     │     │     │     │               \n",
       "   cat_B_0: ───────────────────────────────────┤ X ├──■────────────────────────────░─┤ X ├───────────────────────────────░───────┼──■──┼─────┼─────┼─────┼─────┼─────┼──────────────────────────────────────────░────────────┼─────┼─────┼─────┼─────┼─────┼─────┼───────────────\n",
       "                                               └───┘┌─┴─┐                          ░ └─┬─┘┌───┐                          ░       │  │  │     │     │     │     │     │                                          ░            │     │     │     │     │     │     │               \n",
       "   cat_B_1: ────────────────────────────────────────┤ X ├──■───────────────────────░───┼──┤ X ├──────────────────────────░───────┼──┼──┼──■──┼─────┼─────┼─────┼─────┼──────────────────────────────────────────░────────────┼─────┼─────┼─────┼─────┼─────┼─────┼───────────────\n",
       "                                                    └───┘┌─┴─┐                     ░   │  └─┬─┘┌───┐                     ░       │  │  │  │  │     │     │     │     │                                          ░            │     │     │     │     │     │     │               \n",
       "   cat_B_2: ─────────────────────────────────────────────┤ X ├──■──────────────────░───┼────┼──┤ X ├─────────────────────░───────┼──┼──┼──┼──┼──■──┼─────┼─────┼─────┼──────────────────────────────────────────░────────────┼─────┼─────┼─────┼─────┼─────┼─────┼───────────────\n",
       "                                                         └───┘┌─┴─┐                ░   │    │  └─┬─┘┌───┐                ░       │  │  │  │  │  │  │     │     │     │                                          ░            │     │     │     │     │     │     │               \n",
       "   cat_B_3: ──────────────────────────────────────────────────┤ X ├──■─────────────░───┼────┼────┼──┤ X ├────────────────░───────┼──┼──┼──┼──┼──┼──┼──■──┼─────┼─────┼──────────────────────────────────────────░────────────┼─────┼─────┼─────┼─────┼─────┼─────┼───────────────\n",
       "                                                              └───┘┌─┴─┐           ░   │    │    │  └─┬─┘┌───┐           ░       │  │  │  │  │  │  │  │  │     │     │                                          ░            │     │     │     │     │     │     │               \n",
       "   cat_B_4: ───────────────────────────────────────────────────────┤ X ├──■────────░───┼────┼────┼────┼──┤ X ├───────────░───────┼──┼──┼──┼──┼──┼──┼──┼──┼──■──┼─────┼──────────────────────────────────────────░────────────┼─────┼─────┼─────┼─────┼─────┼─────┼───────────────\n",
       "                                                                   └───┘┌─┴─┐      ░   │    │    │    │  └─┬─┘┌───┐      ░       │  │  │  │  │  │  │  │  │  │  │     │                                          ░            │     │     │     │     │     │     │               \n",
       "   cat_B_5: ────────────────────────────────────────────────────────────┤ X ├──■───░───┼────┼────┼────┼────┼──┤ X ├──────░───────┼──┼──┼──┼──┼──┼──┼──┼──┼──┼──┼──■──┼──────────────────────────────────────────░────────────┼─────┼─────┼─────┼─────┼─────┼─────┼───────────────\n",
       "                                                                        └───┘┌─┴─┐ ░   │    │    │    │    │  └─┬─┘┌───┐ ░       │  │  │  │  │  │  │  │  │  │  │  │  │                                          ░            │     │     │     │     │     │     │               \n",
       "   cat_B_6: ─────────────────────────────────────────────────────────────────┤ X ├─░───┼────┼────┼────┼────┼────┼──┤ X ├─░───────┼──┼──┼──┼──┼──┼──┼──┼──┼──┼──┼──┼──┼──■───────────────────────────────────────░────────────┼─────┼─────┼─────┼─────┼─────┼─────┼───────────────\n",
       "                 ┌───┐     ┌───┐          ┌───┐                              └───┘ ░   │    │    │    │    │    │  └─┬─┘ ░       │  │  │  │  │  │  │  │  │  │  │  │  │  │            ┌───────────┐┌───────────┐ ░            │     │     │     │     │     │     │               \n",
       "  code_B_0: ─────┤ X ├─────┤ X ├──────────┤ X ├────────────────────────────────────────■────┼────┼────┼────┼────┼────┼───░───────┼──┼──┼──┼──┼──┼──┼──┼──┼──┼──┼──┼──┼──┼────────────┤0          ├┤0          ├─░────────────┼──■──┼─────┼─────┼─────┼─────┼─────┼───────────────\n",
       "                 └─┬─┘┌───┐└─┬─┘     ┌───┐└─┬─┘┌───┐                                        │    │    │    │    │    │   ░       │  │  │  │  │  │  │  │  │  │  │  │  │  │            │           ││           │ ░            │  │  │     │     │     │     │     │               \n",
       "  code_B_1: ───────┼──┤ X ├──┼───────┤ X ├──┼──┤ X ├────────────────────────────────────────■────┼────┼────┼────┼────┼───░───────┼──┼──┼──┼──┼──┼──┼──┼──┼──┼──┼──┼──┼──┼────────────┤1          ├┤1          ├─░────────────┼──┼──┼──■──┼─────┼─────┼─────┼─────┼───────────────\n",
       "            ┌───┐  │  └─┬─┘  │       └─┬─┘  │  └─┬─┘                                             │    │    │    │    │   ░       │  │  │  │  │  │  │  │  │  │  │  │  │  │            │           ││           │ ░            │  │  │  │  │     │     │     │     │               \n",
       "  code_B_2: ┤ H ├──■────┼────┼─────────┼────┼────■───────────────────────────────────────────────■────┼────┼────┼────┼───░───────┼──┼──┼──┼──┼──┼──┼──┼──┼──┼──┼──┼──┼──┼────────────┤2          ├┤2          ├─░────────────┼──┼──┼──┼──┼──■──┼─────┼─────┼─────┼───────────────\n",
       "            └───┘┌───┐  │    │  ┌───┐  │    │  ┌───┐                                                  │    │    │    │   ░       │  │  │  │  │  │  │  │  │  │  │  │  │  │            │           ││           │ ░            │  │  │  │  │  │  │     │     │     │               \n",
       "  code_B_3: ─────┤ X ├──┼────┼──┤ X ├──┼────┼──┤ X ├──────────────────────────────────────────────────■────┼────┼────┼───░───────┼──┼──┼──┼──┼──┼──┼──┼──┼──┼──┼──┼──┼──┼────────────┤3 Steane X ├┤3 Steane X ├─░────────────┼──┼──┼──┼──┼──┼──┼──■──┼─────┼─────┼───────────────\n",
       "            ┌───┐└─┬─┘  │    │  └─┬─┘  │    │  └─┬─┘                                                       │    │    │   ░       │  │  │  │  │  │  │  │  │  │  │  │  │  │            │           ││           │ ░            │  │  │  │  │  │  │  │  │     │     │               \n",
       "  code_B_4: ┤ H ├──┼────┼────■────┼────┼────┼────■─────────────────────────────────────────────────────────■────┼────┼───░───────┼──┼──┼──┼──┼──┼──┼──┼──┼──┼──┼──┼──┼──┼────────────┤4          ├┤4          ├─░────────────┼──┼──┼──┼──┼──┼──┼──┼──┼──■──┼─────┼───────────────\n",
       "            ├───┤  │    │         │    │    │                                                                   │    │   ░       │  │  │  │  │  │  │  │  │  │  │  │  │  │            │           ││           │ ░            │  │  │  │  │  │  │  │  │  │  │     │               \n",
       "  code_B_5: ┤ H ├──■────┼─────────┼────■────┼───────────────────────────────────────────────────────────────────■────┼───░───────┼──┼──┼──┼──┼──┼──┼──┼──┼──┼──┼──┼──┼──┼────────────┤5          ├┤5          ├─░────────────┼──┼──┼──┼──┼──┼──┼──┼──┼──┼──┼──■──┼───────────────\n",
       "            ├───┤       │         │         │                                                                        │   ░       │  │  │  │  │  │  │  │  │  │  │  │  │  │            │           ││           │ ░            │  │  │  │  │  │  │  │  │  │  │  │  │               \n",
       "  code_B_6: ┤ H ├───────■─────────■─────────■────────────────────────────────────────────────────────────────────────■───░───────┼──┼──┼──┼──┼──┼──┼──┼──┼──┼──┼──┼──┼──┼────────────┤6          ├┤6          ├─░────────────┼──┼──┼──┼──┼──┼──┼──┼──┼──┼──┼──┼──┼──■────────────\n",
       "            └───┘                                                                                                        ░ ┌───┐ │  │  │  │  │  │  │  │  │  │  │  │  │  │ ┌───┐┌─┐   └─────╥─────┘└─────╥─────┘ ░      ┌───┐ │  │  │  │  │  │  │  │  │  │  │  │  │  │ ┌───┐┌─┐   \n",
       " ancilla_0: ─────────────────────────────────────────────────────────────────────────────────────────────────────────────░─┤ H ├─■──┼──■──┼──■──┼──■──┼──■──┼──■──┼──■──┼─┤ H ├┤M├─────────╫────────────╫───────░──|0>─┤ H ├─■──┼──■──┼──■──┼──■──┼──■──┼──■──┼──■──┼─┤ H ├┤M├───\n",
       "                                                                                                                         ░ ├───┤    │     │     │     │     │     │     │ ├───┤└╥┘┌─┐      ║            ║       ░      ├───┤    │     │     │     │     │     │     │ ├───┤└╥┘┌─┐\n",
       " ancilla_1: ─────────────────────────────────────────────────────────────────────────────────────────────────────────────░─┤ H ├────■─────■─────■─────■─────■─────■─────■─┤ H ├─╫─┤M├──────╫────────────╫───────░──|0>─┤ H ├────■─────■─────■─────■─────■─────■─────■─┤ H ├─╫─┤M├\n",
       "                                                                                                                         ░ └───┘                                          └───┘ ║ └╥┘   ┌──╨──┐      ┌──╨──┐    ░      └───┘                                          └───┘ ║ └╥┘\n",
       "cat_bits: 2/════════════════════════════════════════════════════════════════════════════════════════════════════════════════════════════════════════════════════════════════════╩══╩════╡ 0x1 ╞══════╡ 0x2 ╞════════════════════════════════════════════════════════════════╬══╬═\n",
       "                                                                                                                                                                                0  1    └─────┘      └─────┘                                                                ║  ║ \n",
       "    creg: 2/════════════════════════════════════════════════════════════════════════════════════════════════════════════════════════════════════════════════════════════════════════════════════════════════════════════════════════════════════════════════════════════════╩══╩═\n",
       "                                                                                                                                                                                                                                                                            0  1 "
      ]
     },
     "execution_count": 193,
     "metadata": {},
     "output_type": "execute_result"
    }
   ],
   "source": [
    "circ = ct_module()\n",
    "circ.barrier()\n",
    "\n",
    "# Do logical Z basis measurements on each of the logical qubits\n",
    "code_A_reg = [qreg for qreg in circ.qregs if qreg.name == 'code_A'][0]\n",
    "code_B_reg = [qreg for qreg in circ.qregs if qreg.name == 'code_B'][0]\n",
    "code_regs = [code_A_reg, code_B_reg]\n",
    "# Reuse the ancilla qubits\n",
    "anc_reg = [qreg for qreg in circ.qregs if qreg.name == 'ancilla'][0]\n",
    "circ.reset(anc_reg)\n",
    "\n",
    "creg = qiskit.ClassicalRegister(2, name='creg')\n",
    "circ.add_register(creg)\n",
    "\n",
    "for i, anc_qb in enumerate(anc_reg):\n",
    "    circ.h(anc_qb)\n",
    "    for qubit in code_regs[i]:\n",
    "        circ.cz(anc_qb, qubit)\n",
    "    circ.h(anc_qb)\n",
    "    circ.measure(anc_qb, creg[i])\n",
    "circ.draw(fold=-1)"
   ]
  },
  {
   "cell_type": "code",
   "execution_count": 197,
   "id": "e2ad72ea-3cfe-4c69-b93e-93656232b0c2",
   "metadata": {},
   "outputs": [
    {
     "name": "stdout",
     "output_type": "stream",
     "text": [
      "Simulation started...\n",
      "Simulation ended!\n",
      "Elapsed time: 636.211 seconds\n"
     ]
    }
   ],
   "source": [
    "# Simulate\n",
    "# This cell can take a bit of time, about 10 minutes on my MacBook, but reasonable enough to ensure this circuit is working properly\n",
    "print('Simulation started...')\n",
    "start = time.time()\n",
    "result = qiskit.execute(circ, mps_simulator, shots=10000).result()\n",
    "end = time.time()\n",
    "counts = result.get_counts()\n",
    "print('Simulation ended!')\n",
    "print(f'Elapsed time: {end-start:.3f} seconds')"
   ]
  },
  {
   "cell_type": "code",
   "execution_count": 199,
   "id": "a224059d-8673-4bd6-8827-be498339a6dc",
   "metadata": {},
   "outputs": [
    {
     "name": "stdout",
     "output_type": "stream",
     "text": [
      "Raw counts (creg cat_bits):\n",
      "{'11 01': 1229, '00 10': 1225, '00 00': 1284, '00 01': 1223, '00 11': 1222, '11 11': 1259, '11 10': 1276, '11 00': 1282}\n",
      "When we logically measure the Code A qubit and Code B qubit, we find:\n",
      "\tThe logical state: 11 with probability 50.460%\n",
      "\tThe logical state: 00 with probability 49.540%\n",
      "This is what we expect from the output of the CT module!!!\n"
     ]
    }
   ],
   "source": [
    "print('Raw counts (creg cat_bits):')\n",
    "print(counts)\n",
    "\n",
    "print('When we logically measure the Code A qubit and Code B qubit, we find:')\n",
    "outputs = {}\n",
    "for key, val in counts.items():\n",
    "    logical_output = key.split()[0]\n",
    "    try:\n",
    "        outputs[logical_output] += val\n",
    "    except KeyError:\n",
    "        outputs[logical_output] = val\n",
    "total_shots = sum(outputs.values())\n",
    "for output, shots in outputs.items():\n",
    "    print(f'\\tThe logical state: {output} with probability {shots/total_shots*100:.3f}%')\n",
    "print('This is what we expect from the output of the CT module!!!')"
   ]
  },
  {
   "cell_type": "markdown",
   "id": "6cc3de9b-0222-4a30-8b14-101697c64eb6",
   "metadata": {},
   "source": [
    "## Extra Steane code stuff"
   ]
  },
  {
   "cell_type": "code",
   "execution_count": 5,
   "id": "656d6cf9-7210-44f8-b321-0a13a723cb9e",
   "metadata": {},
   "outputs": [
    {
     "data": {
      "text/html": [
       "<pre style=\"word-wrap: normal;white-space: pre;background: #fff0;line-height: 1.1;font-family: &quot;Courier New&quot;,Courier,monospace\">          ┌───┐                                    ░ \n",
       "steane_0: ┤ H ├──■─────────■──────────────■────────░─\n",
       "          ├───┤  │         │              │        ░ \n",
       "steane_1: ┤ H ├──┼────■────┼─────────■────┼────■───░─\n",
       "          └───┘┌─┴─┐  │    │         │    │  ┌─┴─┐ ░ \n",
       "steane_2: ─────┤ X ├──┼────┼─────────┼────┼──┤ X ├─░─\n",
       "          ┌───┐└───┘  │    │         │    │  └───┘ ░ \n",
       "steane_3: ┤ H ├──■────┼────┼────■────┼────┼────■───░─\n",
       "          └───┘  │    │  ┌─┴─┐  │    │    │  ┌─┴─┐ ░ \n",
       "steane_4: ───────┼────┼──┤ X ├──┼────┼────┼──┤ X ├─░─\n",
       "               ┌─┴─┐  │  └───┘  │  ┌─┴─┐  │  └───┘ ░ \n",
       "steane_5: ─────┤ X ├──┼─────────┼──┤ X ├──┼────────░─\n",
       "               └───┘┌─┴─┐     ┌─┴─┐└───┘┌─┴─┐      ░ \n",
       "steane_6: ──────────┤ X ├─────┤ X ├─────┤ X ├──────░─\n",
       "                    └───┘     └───┘     └───┘      ░ </pre>"
      ],
      "text/plain": [
       "          ┌───┐                                    ░ \n",
       "steane_0: ┤ H ├──■─────────■──────────────■────────░─\n",
       "          ├───┤  │         │              │        ░ \n",
       "steane_1: ┤ H ├──┼────■────┼─────────■────┼────■───░─\n",
       "          └───┘┌─┴─┐  │    │         │    │  ┌─┴─┐ ░ \n",
       "steane_2: ─────┤ X ├──┼────┼─────────┼────┼──┤ X ├─░─\n",
       "          ┌───┐└───┘  │    │         │    │  └───┘ ░ \n",
       "steane_3: ┤ H ├──■────┼────┼────■────┼────┼────■───░─\n",
       "          └───┘  │    │  ┌─┴─┐  │    │    │  ┌─┴─┐ ░ \n",
       "steane_4: ───────┼────┼──┤ X ├──┼────┼────┼──┤ X ├─░─\n",
       "               ┌─┴─┐  │  └───┘  │  ┌─┴─┐  │  └───┘ ░ \n",
       "steane_5: ─────┤ X ├──┼─────────┼──┤ X ├──┼────────░─\n",
       "               └───┘┌─┴─┐     ┌─┴─┐└───┘┌─┴─┐      ░ \n",
       "steane_6: ──────────┤ X ├─────┤ X ├─────┤ X ├──────░─\n",
       "                    └───┘     └───┘     └───┘      ░ "
      ]
     },
     "execution_count": 5,
     "metadata": {},
     "output_type": "execute_result"
    }
   ],
   "source": [
    "# Steane code logical |0> state\n",
    "steane_reg = qiskit.QuantumRegister(7, name='steane')\n",
    "steane_zero = qiskit.QuantumCircuit(steane_reg)\n",
    "steane_zero.h([0,1,3])\n",
    "for pair in [(0,2), (3,5), (1,6), (0,4), (3,6), (1,5), (0,6), (1,2), (3,4)]:\n",
    "    steane_zero.cx(pair[0], pair[1])\n",
    "steane_zero.save_statevector()\n",
    "#steane_zero.measure_all()\n",
    "steane_zero.draw()"
   ]
  },
  {
   "cell_type": "markdown",
   "id": "3d3b25fd-e1b6-4c0f-a3cd-66aeac7f98a7",
   "metadata": {},
   "source": [
    "Logical Steane $|0\\rangle_L=|0000000\\rangle + |1010101\\rangle + |0110011\\rangle + |1100110\\rangle + |0001111\\rangle + |1011010\\rangle + |0111100\\rangle + |1101001\\rangle$\n",
    "\n",
    "(The above was taken from Equation 41 of this [paper](https://www2.physics.ox.ac.uk/sites/default/files/ErrorCorrectionSteane06.pdf)) Also note that the ordering of qubits is reversed because Qiskit is little endian..."
   ]
  },
  {
   "cell_type": "code",
   "execution_count": 11,
   "id": "bf0694a2-c74c-48e5-8930-e5153d59dfa0",
   "metadata": {},
   "outputs": [
    {
     "data": {
      "text/plain": [
       "{'0000000': 0.125,\n",
       " '0011110': 0.125,\n",
       " '0101101': 0.125,\n",
       " '0110011': 0.125,\n",
       " '1001011': 0.125,\n",
       " '1010101': 0.125,\n",
       " '1100110': 0.125,\n",
       " '1111000': 0.125}"
      ]
     },
     "execution_count": 11,
     "metadata": {},
     "output_type": "execute_result"
    }
   ],
   "source": [
    "result = qiskit.execute(steane_zero, backend).result()\n",
    "sv = result.get_statevector()\n",
    "counts = result.get_counts()\n",
    "counts"
   ]
  },
  {
   "cell_type": "code",
   "execution_count": 13,
   "id": "b4faff1a-e5ef-4e55-8df1-6bc97a22111d",
   "metadata": {},
   "outputs": [
    {
     "data": {
      "text/html": [
       "<pre style=\"word-wrap: normal;white-space: pre;background: #fff0;line-height: 1.1;font-family: &quot;Courier New&quot;,Courier,monospace\">          ┌───┐                                    ░ ┌───┐ ░ \n",
       "steane_0: ┤ H ├──■─────────■──────────────■────────░─┤ X ├─░─\n",
       "          ├───┤  │         │              │        ░ ├───┤ ░ \n",
       "steane_1: ┤ H ├──┼────■────┼─────────■────┼────■───░─┤ X ├─░─\n",
       "          └───┘┌─┴─┐  │    │         │    │  ┌─┴─┐ ░ ├───┤ ░ \n",
       "steane_2: ─────┤ X ├──┼────┼─────────┼────┼──┤ X ├─░─┤ X ├─░─\n",
       "          ┌───┐└───┘  │    │         │    │  └───┘ ░ ├───┤ ░ \n",
       "steane_3: ┤ H ├──■────┼────┼────■────┼────┼────■───░─┤ X ├─░─\n",
       "          └───┘  │    │  ┌─┴─┐  │    │    │  ┌─┴─┐ ░ ├───┤ ░ \n",
       "steane_4: ───────┼────┼──┤ X ├──┼────┼────┼──┤ X ├─░─┤ X ├─░─\n",
       "               ┌─┴─┐  │  └───┘  │  ┌─┴─┐  │  └───┘ ░ ├───┤ ░ \n",
       "steane_5: ─────┤ X ├──┼─────────┼──┤ X ├──┼────────░─┤ X ├─░─\n",
       "               └───┘┌─┴─┐     ┌─┴─┐└───┘┌─┴─┐      ░ ├───┤ ░ \n",
       "steane_6: ──────────┤ X ├─────┤ X ├─────┤ X ├──────░─┤ X ├─░─\n",
       "                    └───┘     └───┘     └───┘      ░ └───┘ ░ </pre>"
      ],
      "text/plain": [
       "          ┌───┐                                    ░ ┌───┐ ░ \n",
       "steane_0: ┤ H ├──■─────────■──────────────■────────░─┤ X ├─░─\n",
       "          ├───┤  │         │              │        ░ ├───┤ ░ \n",
       "steane_1: ┤ H ├──┼────■────┼─────────■────┼────■───░─┤ X ├─░─\n",
       "          └───┘┌─┴─┐  │    │         │    │  ┌─┴─┐ ░ ├───┤ ░ \n",
       "steane_2: ─────┤ X ├──┼────┼─────────┼────┼──┤ X ├─░─┤ X ├─░─\n",
       "          ┌───┐└───┘  │    │         │    │  └───┘ ░ ├───┤ ░ \n",
       "steane_3: ┤ H ├──■────┼────┼────■────┼────┼────■───░─┤ X ├─░─\n",
       "          └───┘  │    │  ┌─┴─┐  │    │    │  ┌─┴─┐ ░ ├───┤ ░ \n",
       "steane_4: ───────┼────┼──┤ X ├──┼────┼────┼──┤ X ├─░─┤ X ├─░─\n",
       "               ┌─┴─┐  │  └───┘  │  ┌─┴─┐  │  └───┘ ░ ├───┤ ░ \n",
       "steane_5: ─────┤ X ├──┼─────────┼──┤ X ├──┼────────░─┤ X ├─░─\n",
       "               └───┘┌─┴─┐     ┌─┴─┐└───┘┌─┴─┐      ░ ├───┤ ░ \n",
       "steane_6: ──────────┤ X ├─────┤ X ├─────┤ X ├──────░─┤ X ├─░─\n",
       "                    └───┘     └───┘     └───┘      ░ └───┘ ░ "
      ]
     },
     "execution_count": 13,
     "metadata": {},
     "output_type": "execute_result"
    }
   ],
   "source": [
    "# Steane code logical |1> state\n",
    "steane_reg = qiskit.QuantumRegister(7, name='steane')\n",
    "steane_one = qiskit.QuantumCircuit(steane_reg)\n",
    "steane_one.h([0,1,3])\n",
    "for pair in [(0,2), (3,5), (1,6), (0,4), (3,6), (1,5), (0,6), (1,2), (3,4)]:\n",
    "    steane_one.cx(pair[0], pair[1])\n",
    "steane_one.barrier()\n",
    "steane_one.x([0,1,2,3,4,5,6])\n",
    "steane_one.save_statevector()\n",
    "steane_one.draw()"
   ]
  },
  {
   "cell_type": "markdown",
   "id": "32b35540-0440-447d-9594-e885a28456ac",
   "metadata": {},
   "source": [
    "Logical Steane $|1\\rangle_L= X_{1111111}|0\\rangle_L$"
   ]
  },
  {
   "cell_type": "code",
   "execution_count": 14,
   "id": "bee89ae0-f2ce-4e1c-b161-f578f2a8233e",
   "metadata": {},
   "outputs": [
    {
     "data": {
      "text/plain": [
       "{'0000111': 0.125,\n",
       " '0011001': 0.125,\n",
       " '0101010': 0.125,\n",
       " '0110100': 0.125,\n",
       " '1001100': 0.125,\n",
       " '1010010': 0.125,\n",
       " '1100001': 0.125,\n",
       " '1111111': 0.125}"
      ]
     },
     "execution_count": 14,
     "metadata": {},
     "output_type": "execute_result"
    }
   ],
   "source": [
    "result = qiskit.execute(steane_one, backend).result()\n",
    "sv = result.get_statevector()\n",
    "counts = result.get_counts()\n",
    "counts"
   ]
  },
  {
   "cell_type": "code",
   "execution_count": 44,
   "id": "0059b98b-96ee-4fdd-bf01-b27a057a49a6",
   "metadata": {},
   "outputs": [
    {
     "name": "stdout",
     "output_type": "stream",
     "text": [
      "When the ancilla was measured to be in state |0>\n",
      "The other qubits were measured to be in (BIG ENDIAN):\n",
      "\t0110011: 0.122\n",
      "\t0001111: 0.127\n",
      "\t0111100: 0.122\n",
      "\t0000000: 0.124\n",
      "\t1101001: 0.135\n",
      "\t1100110: 0.122\n",
      "\t1010101: 0.119\n",
      "\t1011010: 0.129\n",
      "When the ancilla was measured to be in state |1>\n",
      "The other qubits were measured to be in (BIG ENDIAN):\n",
      "\t0100101: 0.124\n",
      "\t1000011: 0.123\n",
      "\t0011001: 0.122\n",
      "\t1001100: 0.117\n",
      "\t0101010: 0.132\n",
      "\t0010110: 0.132\n",
      "\t1111111: 0.121\n",
      "\t1110000: 0.130\n"
     ]
    }
   ],
   "source": [
    "result = qiskit.execute(steane_plus, backend, shots=10000).result()\n",
    "counts = result.get_counts()\n",
    "\n",
    "# parse the counts to be human readable\n",
    "for anc_result in ['0', '1']:\n",
    "    print(f'When the ancilla was measured to be in state |{anc_result}>')\n",
    "    print('The other qubits were measured to be in (BIG ENDIAN):')\n",
    "    post_selected_states = {key: val for key, val in counts.items() if key[0] == anc_result}\n",
    "    post_shot_total = sum(post_selected_states.values())\n",
    "    for state, shots in post_selected_states.items():\n",
    "        print(f'\\t{\"\".join(list(state)[::-1][:-1])}: {shots / post_shot_total:.3f}')"
   ]
  },
  {
   "cell_type": "code",
   "execution_count": null,
   "id": "6c07d99e-26e9-4943-9331-2f5fb3200cf9",
   "metadata": {},
   "outputs": [],
   "source": []
  }
 ],
 "metadata": {
  "kernelspec": {
   "display_name": "Python 3 (ipykernel)",
   "language": "python",
   "name": "python3"
  },
  "language_info": {
   "codemirror_mode": {
    "name": "ipython",
    "version": 3
   },
   "file_extension": ".py",
   "mimetype": "text/x-python",
   "name": "python",
   "nbconvert_exporter": "python",
   "pygments_lexer": "ipython3",
   "version": "3.10.7"
  }
 },
 "nbformat": 4,
 "nbformat_minor": 5
}
