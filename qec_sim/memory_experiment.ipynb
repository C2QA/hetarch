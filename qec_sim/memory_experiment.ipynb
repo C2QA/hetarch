{
 "cells": [
  {
   "cell_type": "code",
   "execution_count": null,
   "id": "acdeb34f",
   "metadata": {},
   "outputs": [],
   "source": [
    "import stim\n",
    "import sinter\n",
    "from typing import List\n",
    "from surface_code_sim import LogicalQubit"
   ]
  },
  {
   "cell_type": "code",
   "execution_count": null,
   "id": "d92e4bc1",
   "metadata": {},
   "outputs": [],
   "source": [
    "# the units need to be consistent. this example uses microsecond\n",
    "#time_2q is duration of a 2q gate between 1 data qubit and 1 ancilla (syndrome) qubit\n",
    "params = {\n",
    "    'data_T1': 0., 'ancilla_T1': 0., 'data_T2':0., 'ancilla_T2':0.,#T1 and T2\n",
    "    'time_1q_ancilla': 0., 'time_2q':2., # gate durations\n",
    "    'time_measurement_ancilla':0., 'time_reset_ancilla':0., # duration of measurement and reset for syndrome qubits\n",
    "    'ancilla_1q_err':0.,'data_ancilla_2q_err':0.01, # 1Q and 2Q gate errors\n",
    "    'readout_err':0.01,'reset_err':0.001 #measurement and reset errors for the syndrome qubits\n",
    "}\n"
   ]
  },
  {
   "cell_type": "code",
   "execution_count": null,
   "id": "91a1bf38",
   "metadata": {},
   "outputs": [],
   "source": [
    "d = 5\n",
    "p = params['data_ancilla_2q_err'] #use the default 2q gate error\n",
    "test = LogicalQubit(d, p, params)\n",
    "circ = test.generate_stim(d) # get the stim circuit\n",
    "print(circ)\n",
    "#with open(\"surface_defect.stim\", 'w') as f:\n",
    "#    circ.to_file(f)"
   ]
  },
  {
   "cell_type": "code",
   "execution_count": null,
   "id": "d6c830b5",
   "metadata": {},
   "outputs": [],
   "source": [
    "p_phys_range = [params['data_ancilla_2q_err']] # can be a list of gate err values\n",
    "defect_tasks = []\n",
    "for d in [5, 7]:\n",
    "    for noise in p_phys_range:\n",
    "        circ = LogicalQubit(d, noise, params).generate_stim(d)\n",
    "        defect_tasks.append(sinter.Task(circuit=circ, detector_error_model=circ.detector_error_model(decompose_errors=True), \n",
    "                                        json_metadata={'d': d, 'p': noise}))\n",
    "\n",
    "defect_stats: List[sinter.TaskStats] = sinter.collect(\n",
    "    num_workers=4,\n",
    "    tasks=defect_tasks,\n",
    "    decoders=['pymatching'],\n",
    "    max_shots=10000,\n",
    "    max_errors=100,\n",
    ")"
   ]
  }
 ],
 "metadata": {
  "kernelspec": {
   "display_name": "Python 3 (ipykernel)",
   "language": "python",
   "name": "python3"
  },
  "language_info": {
   "codemirror_mode": {
    "name": "ipython",
    "version": 3
   },
   "file_extension": ".py",
   "mimetype": "text/x-python",
   "name": "python",
   "nbconvert_exporter": "python",
   "pygments_lexer": "ipython3",
   "version": "3.10.4"
  }
 },
 "nbformat": 4,
 "nbformat_minor": 5
}
