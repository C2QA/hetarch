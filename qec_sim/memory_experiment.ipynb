{
 "cells": [
  {
   "cell_type": "code",
   "execution_count": null,
   "id": "acdeb34f",
   "metadata": {},
   "outputs": [],
   "source": []
  },
  {
   "cell_type": "code",
   "execution_count": null,
   "id": "d92e4bc1",
   "metadata": {},
   "outputs": [],
   "source": [
    "# the units need to be consistent\n",
    "#time_2q is duration of a 2q gate between 1 data qubit and 1 ancilla (syndrome) qubit\n",
    "params = {\n",
    "    'data_T1': 0., 'ancilla_T1': 0., 'data_T2':0., 'ancilla_T2':0.,#T1 and T2\n",
    "    'time_1q_ancilla': 0., 'time_2q':0., # gate durations\n",
    "    'time_measurement_ancilla':0., 'time_reset_ancilla':0., # duration of measurement and reset for syndrome qubits\n",
    "    'ancilla_1q_err':0.,'data_ancilla_2q_err':0., # 1Q and 2Q gate errors\n",
    "    'readout_err':0.,'reset_err':0. #measurement and reset errors for the syndrome qubits\n",
    "}\n"
   ]
  }
 ],
 "metadata": {
  "kernelspec": {
   "display_name": "Python 3 (ipykernel)",
   "language": "python",
   "name": "python3"
  },
  "language_info": {
   "codemirror_mode": {
    "name": "ipython",
    "version": 3
   },
   "file_extension": ".py",
   "mimetype": "text/x-python",
   "name": "python",
   "nbconvert_exporter": "python",
   "pygments_lexer": "ipython3",
   "version": "3.10.4"
  }
 },
 "nbformat": 4,
 "nbformat_minor": 5
}
